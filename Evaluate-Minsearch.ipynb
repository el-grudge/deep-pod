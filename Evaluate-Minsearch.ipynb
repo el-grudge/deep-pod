{
 "cells": [
  {
   "cell_type": "code",
   "execution_count": 2,
   "id": "2e0e0cca-31a7-41fe-9ab9-71649a4a84e8",
   "metadata": {},
   "outputs": [],
   "source": [
    "from collections import defaultdict\n",
    "from openai import OpenAI\n",
    "import replicate\n",
    "from elasticsearch import Elasticsearch\n",
    "from elasticsearch.exceptions import AuthenticationException, ConnectionError\n",
    "from transformers import T5ForConditionalGeneration, T5Tokenizer\n",
    "from sentence_transformers import SentenceTransformer\n",
    "import chromadb\n",
    "import os\n",
    "from dotenv import load_dotenv\n",
    "\n",
    "load_dotenv()\n",
    "\n",
    "from utils import search_podcasts\n",
    "from ingest import create_index, download_podcast, transcribe_podcast, encode_podcast, index_podcast\n",
    "from rag import rag, search"
   ]
  },
  {
   "cell_type": "markdown",
   "id": "f8cbb21c-d525-4330-82f4-2c6aa75c3e48",
   "metadata": {},
   "source": [
    "# Setup"
   ]
  },
  {
   "cell_type": "code",
   "execution_count": 3,
   "id": "2e29d4a6-61d2-40a7-a3f3-629ce13eb7f6",
   "metadata": {},
   "outputs": [],
   "source": [
    "def update_session(**kwargs):\n",
    "    for k, v in kwargs.items():\n",
    "        session_state[k] = v\n",
    "\n",
    "def text_input(input_text):\n",
    "    return input(input_text)\n",
    "\n",
    "def choose_podcast_option(episode_option):\n",
    "    update_session(episode_option_selected=False)\n",
    "    if episode_option == \"1. Try a sample\":\n",
    "        update_session(episode_option_selected=True, episode_option=episode_option)\n",
    "    elif episode_option == \"2. Provide the iTunes URL for a specific podcast episode\":\n",
    "        episode_url = text_input(\"Enter the iTunes URL of the episode you want:\")\n",
    "        update_session(episode_option_selected=True, episode_option=episode_option, episode_url=episode_url)\n",
    "    elif episode_option == \"3. Provide a name of a podcast to explore its most recent episode\":\n",
    "        term = text_input(\"Enter a search term for podcasts:\")\n",
    "        try:\n",
    "            if term != '':\n",
    "                found_podcasts = search_podcasts(term)\n",
    "                if found_podcasts['status'] == 'Fail':\n",
    "                    raise Exception\n",
    "                else:\n",
    "                    podcast_names = [f\"{podcast['collectionName']} by {podcast['artistName']}\" for podcast in found_podcasts['podcasts']]\n",
    "                    selected_podcast = selectbox(\"Select a podcast:\", podcast_names)\n",
    "                    selected_index=podcast_names.index(selected_podcast)\n",
    "                    update_session(episode_option_selected=True, episode_option=episode_option, found_podcasts=found_podcasts['podcasts'], selected_index=selected_index)\n",
    "        except Exception:\n",
    "            print(\"Please enter a valid search term.\")\n",
    "\n",
    "def choose_encoder(sentence_encoder):\n",
    "    update_session(sentence_encoder_selected=False)\n",
    "    if sentence_encoder == \"1. T5\":\n",
    "        encoder=SentenceTransformer(\"sentence-transformers/sentence-t5-base\")\n",
    "        update_session(sentence_encoder_selected=True, sentence_encoder=sentence_encoder, encoder=encoder)\n",
    "    elif sentence_encoder == \"2. OpenAI\":\n",
    "        embedding_model = \"text-embedding-3-large\"\n",
    "        openai_api_key = text_input(\"OpenAI API Key\", key=\"file_oa_api_key\", type=\"password\")\n",
    "        if openai_api_key != '':\n",
    "            try:\n",
    "                oa_embedding_client = OpenAI(api_key=openai_api_key)\n",
    "                response = oa_embedding_client.models.list()\n",
    "                update_session(sentence_encoder_selected=True, sentence_encoder=sentence_encoder, embedding_client=oa_embedding_client, embedding_model=embedding_model)\n",
    "            except:\n",
    "                print(\"Invalid API key. Please provide a valid API token.\")\n",
    "\n",
    "def choose_transcription_method(transcription_method, session_state):\n",
    "    if session_state.get('episode_option', False):\n",
    "        if session_state['episode_option'] != \"1. Try a sample\":\n",
    "            update_session(transcription_method_selected=False)\n",
    "            if transcription_method==\"1. Replicate\":\n",
    "                replicate_api_key = os.getenv('REPLICATE_API_KEY')\n",
    "                if replicate_api_key != '':\n",
    "                    try:\n",
    "                        replicate_client = replicate.Client(api_token=replicate_api_key)\n",
    "                        response = replicate_client.models.list()\n",
    "                        update_session(transcription_method_selected=True, transcription_method=transcription_method, transcription_client=replicate_client)\n",
    "                    except:\n",
    "                        print(\"Invalid API key. Please provide a valid API token.\")\n",
    "            elif transcription_method==\"2. Local transcription\":\n",
    "                update_session(transcription_method_selected=True, transcription_method=transcription_method)\n",
    "        else:\n",
    "            print(\"The sample podcast doesn't require a transcription method.\")\n",
    "            update_session(transcription_method_selected=True)\n",
    "\n",
    "def choose_vector_db(vector_db):\n",
    "    update_session(index_name=\"podcast-transcriber\", vector_db_selected=False)\n",
    "    if vector_db==\"1. Minsearch\":\n",
    "        update_session(vector_db=vector_db)\n",
    "        update_session(index=create_index(**session_state))\n",
    "        update_session(vector_db_selected=True, index_created=True)\n",
    "        print(f\"Index {session_state['index'].index_name} was created successfully.\")\n",
    "    elif vector_db==\"2. Elasticsearch\":\n",
    "        elasticsearch_api_key = os.getenv('ES_API_KEY')\n",
    "        elasticsearch_cloud_id = os.getenv('ES_CLOUD_ID')\n",
    "        if elasticsearch_api_key != '' and elasticsearch_cloud_id != '':\n",
    "            try:\n",
    "                es_client = Elasticsearch(cloud_id=elasticsearch_cloud_id, api_key=elasticsearch_api_key)\n",
    "                response = es_client.cluster.health()\n",
    "                update_session(vector_db=vector_db, vector_db_client=es_client)\n",
    "                update_session(index=create_index(**session_state))\n",
    "                update_session(vector_db_selected=True, index_created=True)\n",
    "                print(f\"Index {[k for k,v in session_state['index'].items()][0]} was created successfully.\")\n",
    "            except AuthenticationException:\n",
    "                print(\"Invalid API key or Cloud ID. Please provide a valid tokens.\")\n",
    "            except ConnectionError:\n",
    "                print(\"Connection error. Could not connect to the cluster.\")\n",
    "            except Exception as e:\n",
    "                print(f\"An error occurred: {e}\")\n",
    "    elif vector_db==\"3. ChromaDB\":\n",
    "        chroma_client = chromadb.PersistentClient(path=\"./chroma_db\")\n",
    "        update_session(vector_db=vector_db, vector_db_client=chroma_client)\n",
    "        update_session(index=create_index(**session_state))\n",
    "        update_session(vector_db_selected=True, index_created=True)\n",
    "        print(f\"Index {session_state['vector_db_client'].list_collections()[0].name} was created successfully.\")\n",
    "\n",
    "def choose_llm(llm_option):\n",
    "    update_session(llm_option_selected=False)\n",
    "    if llm_option == \"1. GPT-4o\":\n",
    "        if session_state['sentence_encoder'] != \"2. OpenAI\":\n",
    "            openai_api_key = os.getenv('OPENAI_API_KEY')\n",
    "            if openai_api_key != '':\n",
    "                try:\n",
    "                    oa_client = OpenAI(api_key=openai_api_key)\n",
    "                    response = oa_client.models.list()\n",
    "                    update_session(llm_option_selected=True, llm_option=llm_option, llm_client=oa_client)\n",
    "                except:\n",
    "                    print(\"Invalid API key. Please provide a valid API token.\")\n",
    "        else:\n",
    "            oa_client = session_state['embedding_client']\n",
    "            update_session(llm_option_selected=True, llm_option=llm_option, llm_client=oa_client)\n",
    "\n",
    "    elif llm_option == \"2. FLAN-5\":\n",
    "        model = T5ForConditionalGeneration.from_pretrained(\"google/flan-t5-large\")\n",
    "        tokenizer = T5Tokenizer.from_pretrained(\"google/flan-t5-large\")\n",
    "        update_session(llm_option_selected=True, llm_option=llm_option, llm_client=model, llm_tokenizer=tokenizer)"
   ]
  },
  {
   "cell_type": "markdown",
   "id": "eec40a97-cdf7-45b1-8c32-c56e1ffa282b",
   "metadata": {},
   "source": [
    "# Main"
   ]
  },
  {
   "cell_type": "code",
   "execution_count": 4,
   "id": "64c60958-eddf-4a73-9137-1fa5dd0fd1ad",
   "metadata": {},
   "outputs": [],
   "source": [
    "session_state = defaultdict(\n",
    "    episode_option = \"1. Try a sample\",\n",
    "    sentence_encoder = \"1. T5\",\n",
    "    transcription_method = \"1. Replicate\",\n",
    "    vector_db = \"1. Minsearch\",\n",
    "    llm_option = \"1. GPT-4o\"\n",
    ")"
   ]
  },
  {
   "cell_type": "code",
   "execution_count": 5,
   "id": "344bd2cb-79fa-482a-b9db-d16aec460049",
   "metadata": {},
   "outputs": [],
   "source": [
    "choose_podcast_option(session_state['episode_option'])\n",
    "# https://podcasts.apple.com/us/podcast/what-if-the-russian-revolution-hadnt-been-bolshevik/id1682047968?i=1000668755545"
   ]
  },
  {
   "cell_type": "code",
   "execution_count": 6,
   "id": "91ddc5b3-ca52-4b50-bb4e-5f3f1df9eae6",
   "metadata": {},
   "outputs": [
    {
     "name": "stderr",
     "output_type": "stream",
     "text": [
      "/home/minasonbol/Documents/study/deep-pod/.venv/lib/python3.10/site-packages/transformers/tokenization_utils_base.py:1601: FutureWarning: `clean_up_tokenization_spaces` was not set. It will be set to `True` by default. This behavior will be depracted in transformers v4.45, and will be then set to `False` by default. For more details check this issue: https://github.com/huggingface/transformers/issues/31884\n",
      "  warnings.warn(\n"
     ]
    }
   ],
   "source": [
    "choose_encoder(session_state['sentence_encoder'])"
   ]
  },
  {
   "cell_type": "code",
   "execution_count": 7,
   "id": "8b7c5ad1-96af-4949-befb-ac55b0ca1fc7",
   "metadata": {},
   "outputs": [
    {
     "name": "stdout",
     "output_type": "stream",
     "text": [
      "The sample podcast doesn't require a transcription method.\n"
     ]
    }
   ],
   "source": [
    "choose_transcription_method(session_state['transcription_method'], session_state)"
   ]
  },
  {
   "cell_type": "code",
   "execution_count": 8,
   "id": "eb4e9789-6e85-4dee-a656-fd93ca787fbc",
   "metadata": {},
   "outputs": [
    {
     "name": "stdout",
     "output_type": "stream",
     "text": [
      "Index podcast-transcriber was created successfully.\n"
     ]
    }
   ],
   "source": [
    "choose_vector_db(session_state['vector_db'])"
   ]
  },
  {
   "cell_type": "code",
   "execution_count": 9,
   "id": "1132a988-51ea-49b4-bc19-3bc43795d2af",
   "metadata": {},
   "outputs": [],
   "source": [
    "choose_llm(session_state['llm_option'])"
   ]
  },
  {
   "cell_type": "code",
   "execution_count": 10,
   "id": "2b955533-cf33-4d2e-bfaa-75c204828531",
   "metadata": {},
   "outputs": [
    {
     "name": "stdout",
     "output_type": "stream",
     "text": [
      "Podcast Past Present Future downloaded successfully.\n"
     ]
    }
   ],
   "source": [
    "# download\n",
    "episode_details = download_podcast(**session_state)\n",
    "if episode_details['status'] == 'Success':\n",
    "    print(episode_details['status_message'])\n",
    "    update_session(episode_details=episode_details, podcast_downloaded=True)\n",
    "else:\n",
    "    print(episode_details['status_message'])\n",
    "    update_session(podcast_downloaded=False)"
   ]
  },
  {
   "cell_type": "code",
   "execution_count": 11,
   "id": "825fdc54-c385-4c40-9c76-2ce9be3125b7",
   "metadata": {},
   "outputs": [],
   "source": [
    "# transcribe\n",
    "if session_state['podcast_downloaded'] and not session_state.get('interaction_started', False):\n",
    "    session_state['episode_details'].update(transcribe_podcast(**session_state))\n",
    "    update_session(podcast_transcribed=True)"
   ]
  },
  {
   "cell_type": "code",
   "execution_count": 12,
   "id": "2bfd1361-4f2e-424a-8a6b-411e6d4cf154",
   "metadata": {},
   "outputs": [],
   "source": [
    "# import json\n",
    "\n",
    "# file_path = \"episode_details_id.json\"\n",
    "\n",
    "# # Read the JSON file\n",
    "# with open(file_path, 'r') as file:\n",
    "#     episode_details = json.load(file)\n",
    "\n",
    "# # Now 'data' contains the contents of your JSON file\n",
    "# session_state['episode_details'] = episode_details"
   ]
  },
  {
   "cell_type": "code",
   "execution_count": 13,
   "id": "bb391e46-d4ac-41e8-8b40-e6c36d662872",
   "metadata": {},
   "outputs": [],
   "source": [
    "# encode\n",
    "if session_state['podcast_transcribed'] and not session_state.get('interaction_started', False):\n",
    "    if session_state['vector_db'] != \"1. Minsearch\":\n",
    "        # try:\n",
    "        session_state['episode_details'].update(encode_podcast(**session_state))\n",
    "        update_session(podcast_embedded=True)\n",
    "        # except:\n",
    "        #     print(\"Encoding failed.\")          \n",
    "        #     update_session(podcast_embedded=False)\n",
    "    else:\n",
    "        update_session(podcast_embedded=True)"
   ]
  },
  {
   "cell_type": "code",
   "execution_count": 14,
   "id": "d672852a-9a88-499d-a528-004882d01da7",
   "metadata": {},
   "outputs": [],
   "source": [
    "# import json\n",
    "\n",
    "# session_state['episode_details']['cos_sim'] = session_state['episode_details']['cos_sim'][0].item()\n",
    "\n",
    "# # Assume 'data' is the dictionary or list you want to save as JSON\n",
    "# data = session_state['episode_details']\n",
    "\n",
    "# # Specify the file path where you want to save the JSON file\n",
    "# file_path = 'episode_details_id.json'\n",
    "\n",
    "# # Write the data to a JSON file\n",
    "# with open(file_path, 'w') as json_file:\n",
    "#     json.dump(data, json_file, indent=4)\n",
    "\n",
    "# print(f\"JSON file has been saved to {file_path}\")"
   ]
  },
  {
   "cell_type": "code",
   "execution_count": 15,
   "id": "ab1b6cfa-4c4d-4d94-87b4-c7c2bc86b476",
   "metadata": {},
   "outputs": [],
   "source": [
    "# populate index\n",
    "if session_state['podcast_embedded'] and not session_state.get('interaction_started', False):\n",
    "    index_podcast(**session_state)\n",
    "    update_session(podcast_indexed=True)"
   ]
  },
  {
   "cell_type": "code",
   "execution_count": 16,
   "id": "1c056971-7ef2-4251-b7e9-2a419f941a4f",
   "metadata": {},
   "outputs": [
    {
     "data": {
      "text/plain": [
       "{'text': ' Balancing a wellness routine and busy travel plans?',\n",
       " 'timestamp': [0, 3.06],\n",
       " 'id': 1}"
      ]
     },
     "execution_count": 16,
     "metadata": {},
     "output_type": "execute_result"
    }
   ],
   "source": [
    "session_state['episode_details']['chunks'][0]"
   ]
  },
  {
   "cell_type": "code",
   "execution_count": 17,
   "id": "16541a4a-34fe-4522-b300-387eb8a33d9f",
   "metadata": {},
   "outputs": [
    {
     "data": {
      "text/plain": [
       "[{'id': '13',\n",
       "  'text': ' How might the history of the world have been different?'},\n",
       " {'id': '11',\n",
       "  'text': ' What if not the Bolsheviks, but the left SRs, the left socialist revolutionaries'},\n",
       " {'id': '12',\n",
       "  'text': ' had come out on top? How might the revolution have been different?'},\n",
       " {'id': '89',\n",
       "  'text': ' how powerful were the left SRs relative to the Bolsheviks?'},\n",
       " {'id': '17',\n",
       "  'text': ' So maybe you could sketch out for us just what the political landscape in Russia looked like after that revolution.'}]"
      ]
     },
     "execution_count": 17,
     "metadata": {},
     "output_type": "execute_result"
    }
   ],
   "source": [
    "session_state['num_results'] = 5\n",
    "query = 'How might the political landscape have changed if the Bolsheviks were not successful?'\n",
    "search(query, **session_state)"
   ]
  },
  {
   "cell_type": "code",
   "execution_count": 18,
   "id": "1e5c78bc-efc1-4b64-8040-21d82972f214",
   "metadata": {},
   "outputs": [
    {
     "name": "stdout",
     "output_type": "stream",
     "text": [
      "['If ', 'the ', 'Bolsheviks ', 'had ', 'not ', 'been ', 'successful ', 'and ', 'the ', 'left ', 'Socialist ', 'Revolutionaries ', '(left ', 'SRs) ', 'had ', 'come ', 'out ', 'on ', 'top, ', 'the ', 'political ', 'landscape ', 'in ', 'Russia ', 'could ', 'have ', 'been ', 'markedly ', 'different. ', 'The ', 'left ', 'SRs, ', 'unlike ', 'the ', 'Bolsheviks, ', 'may ', 'have ', 'pursued ', 'a ', 'different ', 'set ', 'of ', 'policies ', 'and ', 'priorities ', 'focused ', 'more ', 'on ', 'agrarian ', 'socialism ', 'and ', 'rural ', 'reform, ', 'given ', 'their ', 'stronger ', 'base ', 'among ', 'the ', 'peasantry. ', 'This ', 'could ', 'have ', 'led ', 'to ', 'a ', 'different ', 'structure ', 'of ', 'governance, ', 'possibly ', 'with ', 'more ', 'emphasis ', 'on ', 'decentralized ', 'power ', 'and ', 'land ', 'redistribution. ', 'The ', 'influence ', 'and ', 'control ', 'over ', 'the ', 'means ', 'of ', 'production ', 'may ', 'have ', 'unfolded ', 'differently, ', 'potentially ', 'affecting ', 'the ', 'extent ', 'of ', 'industrialization ', 'and ', 'the ', 'centralized ', 'state ', 'apparatus ', 'that ', 'characterized ', 'the ', 'Bolshevik ', 'regime. ', 'Internationally, ', 'the ', 'left ', 'SRs ', 'might ', 'have ', 'adopted ', 'a ', 'different ', 'approach ', 'to ', 'foreign ', 'policy, ', 'potentially ', 'altering ', 'the ', 'global ', 'perception ', 'and ', 'alliances ', 'of ', 'Soviet ', 'Russia. ', 'Overall, ', 'the ', 'balance ', 'of ', 'power ', 'and ', 'the ', 'nature ', 'of ', 'revolutionary ', 'change ', 'in ', 'Russia ', 'would ', 'have ', 'been ', 'distinct ', 'with ', 'the ', 'success ', 'of ', 'the ', 'left ', 'SRs ', 'rather ', 'than ', 'the ', 'Bolsheviks. ']\n"
     ]
    }
   ],
   "source": [
    "result = rag(query, **session_state)\n",
    "print(list(result))"
   ]
  },
  {
   "cell_type": "markdown",
   "id": "e6367c19-6331-4b20-a8e2-7973b13eea21",
   "metadata": {},
   "source": [
    "# Retrieval evaluation"
   ]
  },
  {
   "cell_type": "code",
   "execution_count": 19,
   "id": "aeb44e46-d821-4a2e-b8c6-06cce2cc7056",
   "metadata": {},
   "outputs": [],
   "source": [
    "import pandas as pd\n",
    "\n",
    "ground_truth = pd.read_csv('sample/ground-truth-retrieval.csv')\n",
    "ground_truth = ground_truth.to_dict(orient='records')"
   ]
  },
  {
   "cell_type": "code",
   "execution_count": 58,
   "id": "eda6aa6c-460e-411d-b458-712f6723d820",
   "metadata": {},
   "outputs": [
    {
     "data": {
      "text/plain": [
       "{'id': '1',\n",
       " 'question': 'How can I maintain my wellness routine while traveling?'}"
      ]
     },
     "execution_count": 58,
     "metadata": {},
     "output_type": "execute_result"
    }
   ],
   "source": [
    "ground_truth[0]"
   ]
  },
  {
   "cell_type": "code",
   "execution_count": 59,
   "id": "54b1a282-1249-4f61-be61-166c3793a85e",
   "metadata": {},
   "outputs": [],
   "source": [
    "def hit_rate(relevance_total):\n",
    "    cnt = 0\n",
    "\n",
    "    for line in relevance_total:\n",
    "        if True in line:\n",
    "            cnt = cnt + 1\n",
    "\n",
    "    return cnt / len(relevance_total)\n",
    "\n",
    "def mrr(relevance_total):\n",
    "    total_score = 0.0\n",
    "\n",
    "    for line in relevance_total:\n",
    "        for rank in range(len(line)):\n",
    "            if line[rank] == True:\n",
    "                total_score = total_score + 1 / (rank + 1)\n",
    "\n",
    "    return total_score / len(relevance_total)"
   ]
  },
  {
   "cell_type": "code",
   "execution_count": 70,
   "id": "48aecaa7-5343-4ce8-8ea5-e4e915171f2e",
   "metadata": {},
   "outputs": [],
   "source": [
    "index = session_state['index']\n",
    "\n",
    "def minsearch_search(query):\n",
    "    boost = {'text':3.0}\n",
    "\n",
    "    results = index.search(\n",
    "        query=query,\n",
    "        boost_dict=boost, \n",
    "        num_results=10\n",
    "    )\n",
    "    \n",
    "    return results"
   ]
  },
  {
   "cell_type": "code",
   "execution_count": 71,
   "id": "6d63f29c-d98f-4d72-8079-c5a0a1b82b85",
   "metadata": {},
   "outputs": [],
   "source": [
    "def evaluate(ground_truth, search_function):\n",
    "    relevance_total = []\n",
    "\n",
    "    for q in tqdm(ground_truth):\n",
    "        doc_id = q['id']\n",
    "        results = search_function(q)\n",
    "        relevance = [str(d['id']) == str(doc_id) for d in results]\n",
    "        relevance_total.append(relevance)\n",
    "\n",
    "    return {\n",
    "        'hit_rate': hit_rate(relevance_total),\n",
    "        'mrr': mrr(relevance_total),\n",
    "    }"
   ]
  },
  {
   "cell_type": "code",
   "execution_count": 72,
   "id": "bc8fc357-cad5-4a2a-bc2d-2271a3291d09",
   "metadata": {},
   "outputs": [],
   "source": [
    "session_state['num_results'] = 5"
   ]
  },
  {
   "cell_type": "code",
   "execution_count": 73,
   "id": "b16e54d6-614b-42a1-a010-3e8d473ea0a8",
   "metadata": {},
   "outputs": [
    {
     "data": {
      "text/plain": [
       "[{'id': '1',\n",
       "  'question': 'How can I maintain my wellness routine while traveling?'}]"
      ]
     },
     "execution_count": 73,
     "metadata": {},
     "output_type": "execute_result"
    }
   ],
   "source": [
    "ground_truth[:1]"
   ]
  },
  {
   "cell_type": "code",
   "execution_count": 74,
   "id": "bdaf6e6c-581f-4c87-86ed-05be5e5dc6cc",
   "metadata": {},
   "outputs": [
    {
     "name": "stderr",
     "output_type": "stream",
     "text": [
      "100%|██████████████████████████████████████████████████████████████████████████████████████████████| 2685/2685 [00:04<00:00, 669.73it/s]\n"
     ]
    },
    {
     "data": {
      "text/plain": [
       "{'hit_rate': 0.7515828677839851, 'mrr': 0.5692242322130585}"
      ]
     },
     "execution_count": 74,
     "metadata": {},
     "output_type": "execute_result"
    }
   ],
   "source": [
    "from tqdm import tqdm\n",
    "\n",
    "evaluate(ground_truth, lambda q: minsearch_search(q['question']))"
   ]
  },
  {
   "cell_type": "code",
   "execution_count": null,
   "id": "f71933fa-ab88-40be-96cf-2034ec2dc682",
   "metadata": {},
   "outputs": [],
   "source": []
  }
 ],
 "metadata": {
  "kernelspec": {
   "display_name": "Python 3 (ipykernel)",
   "language": "python",
   "name": "python3"
  },
  "language_info": {
   "codemirror_mode": {
    "name": "ipython",
    "version": 3
   },
   "file_extension": ".py",
   "mimetype": "text/x-python",
   "name": "python",
   "nbconvert_exporter": "python",
   "pygments_lexer": "ipython3",
   "version": "3.10.12"
  }
 },
 "nbformat": 4,
 "nbformat_minor": 5
}
