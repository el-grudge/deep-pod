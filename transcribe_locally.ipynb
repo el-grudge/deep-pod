{
 "cells": [
  {
   "cell_type": "code",
   "execution_count": 1,
   "id": "e0360cbc-d45d-46be-a4ec-d679543570ef",
   "metadata": {},
   "outputs": [
    {
     "name": "stderr",
     "output_type": "stream",
     "text": [
      "/home/minasonbol/Documents/study/deep-pod/.venv/lib/python3.10/site-packages/sentence_transformers/cross_encoder/CrossEncoder.py:11: TqdmWarning: IProgress not found. Please update jupyter and ipywidgets. See https://ipywidgets.readthedocs.io/en/stable/user_install.html\n",
      "  from tqdm.autonotebook import tqdm, trange\n"
     ]
    }
   ],
   "source": [
    "from collections import defaultdict\n",
    "from utils import get_episode_title, get_podcast_details, get_feed_details, search_for_episode, fetch_latest_episode, download_all, call_replicate_api\n",
    "from sentence_transformers import SentenceTransformer\n",
    "import chromadb\n",
    "from transformers import T5ForConditionalGeneration, T5Tokenizer\n",
    "from pydub import AudioSegment\n",
    "from tqdm import tqdm\n",
    "import torch\n",
    "from faster_whisper import WhisperModel\n",
    "import concurrent.futures\n",
    "\n",
    "import json\n",
    "import os\n",
    "import nltk\n",
    "nltk.download('punkt_tab')\n",
    "from nltk.tokenize import sent_tokenize\n",
    "import time"
   ]
  },
  {
   "cell_type": "markdown",
   "id": "2893bc4a-5c50-4210-bee7-bbf161997cc9",
   "metadata": {},
   "source": [
    "# utils"
   ]
  },
  {
   "cell_type": "code",
   "execution_count": 2,
   "id": "115d0a4c-4036-4be6-86ad-6e2b9d0f2de6",
   "metadata": {},
   "outputs": [],
   "source": [
    "def update_session(**kwargs):\n",
    "    for k, v in kwargs.items():\n",
    "        session_state[k] = v"
   ]
  },
  {
   "cell_type": "code",
   "execution_count": 3,
   "id": "74096ea9-d4ea-4572-b2a0-9de3f15c7950",
   "metadata": {},
   "outputs": [],
   "source": [
    "def choose_podcast_option(**kwargs):\n",
    "    sentence_encoder = session_state['sentence_encoder']\n",
    "    if sentence_encoder == \"1. T5\":\n",
    "        encoder=SentenceTransformer(\"sentence-transformers/sentence-t5-base\")\n",
    "        update_session(sentence_encoder_selected=True, sentence_encoder=sentence_encoder, encoder=encoder)"
   ]
  },
  {
   "cell_type": "markdown",
   "id": "a22a2d4a-be7f-4efb-8250-611c56d2ce5c",
   "metadata": {},
   "source": [
    "# download"
   ]
  },
  {
   "cell_type": "code",
   "execution_count": 4,
   "id": "7b8e65f6-1832-4869-b23a-b8f72217d965",
   "metadata": {},
   "outputs": [],
   "source": [
    "def download_podcast(**kwargs):\n",
    "    option = kwargs['episode_option']\n",
    "    if option == \"1. Try a sample\":\n",
    "        with open('sample/episode_details.json', 'r') as f:\n",
    "            episode_details = json.load(f)\n",
    "    elif option == \"2. Provide the iTunes URL for a specific podcast episode\":\n",
    "        episode_url = kwargs['episode_url']\n",
    "        episode_details = download_episode_from_url(\n",
    "            episode_url, \n",
    "            kwargs['sentence_encoder'],\n",
    "            encoder=kwargs['encoder'] if 'encoder' in kwargs.keys() else None,\n",
    "            embedding_client=kwargs['embedding_client'] if 'embedding_client' in kwargs.keys() else None,\n",
    "            embedding_model=kwargs['embedding_model'] if 'embedding_model' in kwargs.keys() else None\n",
    "            )\n",
    "    elif option == \"3. Provide a name of a podcast to explore its most recent episode\":\n",
    "        found_podcasts = kwargs['found_podcasts']\n",
    "        selected_index = kwargs['selected_index']\n",
    "        episode_details = download_episode_from_name(found_podcasts[selected_index]['collectionId'], found_podcasts[selected_index]['collectionName'])\n",
    "    return episode_details"
   ]
  },
  {
   "cell_type": "code",
   "execution_count": 5,
   "id": "1a89e49b-7231-4beb-88a4-4c7a14db299f",
   "metadata": {},
   "outputs": [],
   "source": [
    "def download_episode_from_url(url, sentence_encoder, **kwargs):\n",
    "    try:\n",
    "        podcast_id, episode_title = get_episode_title(url)\n",
    "        podcast_details = get_podcast_details(podcast_id)\n",
    "        \n",
    "        feed_details = get_feed_details(\n",
    "            podcast_details['feedUrl'], \n",
    "            sentence_encoder=sentence_encoder, \n",
    "            encoder=kwargs['encoder'], \n",
    "            embedding_client=kwargs['embedding_client'], \n",
    "            embedding_model=kwargs['embedding_model']\n",
    "            )\n",
    "        \n",
    "        episode_details = search_for_episode(\n",
    "            episode_title, \n",
    "            feed_details,\n",
    "            sentence_encoder=sentence_encoder, \n",
    "            encoder=kwargs['encoder'], \n",
    "            embedding_client=kwargs['embedding_client'], \n",
    "            embedding_model=kwargs['embedding_model']        \n",
    "            )\n",
    "        \n",
    "        if episode_details['cos_sim'] < 0.95:\n",
    "            raise Exception\n",
    "        episode_details['filenames'] = []\n",
    "        episode_details['filenames'] += download_all(episode_details['audio_urls'], podcast_details['collectionName'])\n",
    "        episode_details['status'] = 'Success'\n",
    "        episode_details['status_message'] = f\"Podcast {podcast_details['collectionName']} downloaded successfully.\"\n",
    "    except Exception:\n",
    "        episode_details = {}\n",
    "        episode_details['status'] = 'Fail'\n",
    "        episode_details['status_message'] = \"Failed to download the podcast. Please try again.\"\n",
    "        return episode_details\n",
    "\n",
    "    return episode_details"
   ]
  },
  {
   "cell_type": "markdown",
   "id": "cdc8e2ed-9033-4676-8bc7-efb8c1e503cd",
   "metadata": {},
   "source": [
    "# transcribe"
   ]
  },
  {
   "cell_type": "code",
   "execution_count": 6,
   "id": "80992a95-0fa9-490b-8692-6d09e30e3c12",
   "metadata": {},
   "outputs": [
    {
     "name": "stderr",
     "output_type": "stream",
     "text": [
      "[nltk_data] Downloading package punkt_tab to\n",
      "[nltk_data]     /home/minasonbol/nltk_data...\n",
      "[nltk_data]   Package punkt_tab is already up-to-date!\n"
     ]
    }
   ],
   "source": [
    "def shrink_and_split_mp3(mp3_file, n_splits):\n",
    "    \"\"\"\n",
    "    Shrinks and splits the MP3 file into `n_splits` parts and returns the split parts in a list.\n",
    "\n",
    "    Args:\n",
    "    mp3_file (str): Path to the input MP3 file.\n",
    "    n_splits (int): The number of parts to split the audio file into.\n",
    "\n",
    "    Returns:\n",
    "    list: A list of file paths for the split audio parts.\n",
    "    \"\"\"\n",
    "    directory, filename = os.path.split(mp3_file)\n",
    "    basename, ext = os.path.splitext(filename)\n",
    "    \n",
    "    # Load the audio file\n",
    "    audio = AudioSegment.from_mp3(mp3_file)\n",
    "    \n",
    "    # Set desired sample rate and bit depth to control size\n",
    "    audio = audio.set_frame_rate(16000)\n",
    "    audio = audio.set_sample_width(16 // 8)  # 16 bits = 2 bytes    \n",
    "    audio = audio.set_channels(1)  # Convert to mono\n",
    "    \n",
    "    # Get the total length of the audio file (in milliseconds)\n",
    "    audio_length = len(audio)\n",
    "    \n",
    "    # Calculate the duration for each split part\n",
    "    split_duration = audio_length // n_splits\n",
    "    \n",
    "    # List to store the paths of the split audio parts\n",
    "    split_paths = []\n",
    "    \n",
    "    # Loop to split and export each part\n",
    "    for i in range(n_splits):\n",
    "        start_time = i * split_duration\n",
    "        # Handle the last split to include any remaining audio\n",
    "        end_time = (i + 1) * split_duration if i < n_splits - 1 else audio_length\n",
    "        split_audio = audio[start_time:end_time]\n",
    "        \n",
    "        # Generate the file name for each split part\n",
    "        split_path = os.path.join(directory, f\"{basename}_part_{i+1}{ext}\")\n",
    "        \n",
    "        # Export the split part\n",
    "        split_audio.export(split_path, format=\"mp3\")\n",
    "        \n",
    "        # Add the split part path to the list\n",
    "        split_paths.append(split_path)\n",
    "    \n",
    "    return split_paths\n",
    "    \n",
    "def store_json_data(data, file_path):\n",
    "    try:\n",
    "        # Ensure the directory exists\n",
    "        os.makedirs(os.path.dirname(file_path), exist_ok=True)\n",
    "        \n",
    "        # Write the dictionary to the JSON file\n",
    "        with open(file_path, 'w') as json_file:\n",
    "            json.dump(data, json_file, indent=4)\n",
    "        print(f\"Data successfully stored in {file_path}\")\n",
    "    except Exception as e:\n",
    "        print(f\"An error occurred while storing the data: {e}\")\n",
    "\n",
    "def chunk_text_into_sentences(text):\n",
    "    # Tokenize the text into sentences\n",
    "    sentences = sent_tokenize(text)\n",
    "    return sentences\n",
    "\n",
    "def transcribe(file_path):\n",
    "  # define our torch configuration\n",
    "  device = \"cuda\" if torch.cuda.is_available() else \"cpu\"\n",
    "  # compute_type = \"float16\" if torch.cuda.is_available() else \"float32\"\n",
    "  compute_type = \"int8\"\n",
    "\n",
    "  # load model on GPU if available, else cpu\n",
    "  model = WhisperModel(\"distil-large-v3\", device=device, compute_type=compute_type)\n",
    "    \n",
    "  # fast whisper large 3\n",
    "  final_transcription = \"\"\n",
    "  segments, info = model.transcribe(file_path, beam_size=1)\n",
    "\n",
    "  # Initialize the progress bar\n",
    "  pbar = tqdm(total=len(AudioSegment.from_file(file_path)) / 1000.0, unit='s')\n",
    "\n",
    "  for segment in segments:\n",
    "      final_transcription += segment.text\n",
    "      pbar.update(segment.end - segment.start)\n",
    "\n",
    "  # Close the progress bar\n",
    "  pbar.close()\n",
    "\n",
    "  # Chunk the transcription text into sentences\n",
    "  sentences = chunk_text_into_sentences(final_transcription)\n",
    "\n",
    "  chunks = []\n",
    "  for sentence in sentences:\n",
    "      tmp_dict = {}\n",
    "      tmp_dict['text'] = sentence\n",
    "      chunks.append(tmp_dict)\n",
    "        \n",
    "  print(\"Audio transcription complete\")\n",
    "  file_dir = \"/\".join(file_path.split(\"/\")[:-1])\n",
    "  data = {\"chunks\": chunks, \"text\": final_transcription}\n",
    "  store_json_data(data, os.path.join(file_dir, \"stored_data.json\"))\n",
    "  return data\n",
    "\n",
    "\n",
    "# def transcribe_with_replicate(replicate_client, mp3_file):\n",
    "def transcribe_with_whistler(filenames, n_splits=2):\n",
    "    start_time = time.time()\n",
    "    mp3_files = shrink_and_split_mp3(filenames[0], n_splits)\n",
    "    \n",
    "    with concurrent.futures.ThreadPoolExecutor(max_workers=n_splits) as executor:        \n",
    "        # Submit the transcription tasks to the executor\n",
    "        futures = {\n",
    "            executor.submit(transcribe, mp3_file): i for i, mp3_file in enumerate(mp3_files)\n",
    "        }\n",
    "        # Collect the results in the original order based on submission index\n",
    "        results = [None] * len(mp3_files)\n",
    "        for future in concurrent.futures.as_completed(futures):\n",
    "            i = futures[future]  # Index of the mp3 file part\n",
    "            results[i] = future.result()  # Store result in the correct index\n",
    "    chunks = []\n",
    "    text = ''\n",
    "    for output in results:\n",
    "        chunks += output['chunks']\n",
    "        text = \" \".join([text, output['text']])\n",
    "    end_time = time.time()\n",
    "    execution_time = end_time - start_time\n",
    "    print(f\"Time to run the command: {execution_time} seconds\")\n",
    "    return chunks, text"
   ]
  },
  {
   "cell_type": "code",
   "execution_count": 7,
   "id": "e9f5c96c-aec0-4cc2-ab78-7ae9c544ce43",
   "metadata": {},
   "outputs": [],
   "source": [
    "def transcribe_podcast(**kwargs):\n",
    "    podcast_option = kwargs['episode_option']\n",
    "    episode_details = kwargs['episode_details']\n",
    "    \n",
    "    if podcast_option == \"1. Try a sample\":\n",
    "        chunks, text = episode_details['chunks'], episode_details['text']\n",
    "    else:\n",
    "        transcription_method = kwargs['transcription_method']\n",
    "        if transcription_method == \"1. Replicate\":\n",
    "            chunks, text = transcribe_with_replicate(kwargs['transcription_client'], episode_details['filenames'])\n",
    "        elif transcription_method == \"2. Local transcription\":\n",
    "            chunks, text = transcribe_with_whistler(episode_details['filenames'], n_splits=2) # 4 splits took 800 seconds / try it in streamlit\n",
    "                        \n",
    "    return {'chunks': chunks, 'text': text}"
   ]
  },
  {
   "cell_type": "markdown",
   "id": "aa397dd7-fbcf-4a37-bd16-0716d0b4cc3f",
   "metadata": {},
   "source": [
    "# encoding"
   ]
  },
  {
   "cell_type": "code",
   "execution_count": 8,
   "id": "f2c0665e-ef69-4cce-b9a7-3833531bc2dd",
   "metadata": {},
   "outputs": [],
   "source": [
    "def create_t5_embedding(encoder, chunks):\n",
    "    documents = []\n",
    "\n",
    "    for sentence in chunks:\n",
    "        temp_dict = {\n",
    "            'text': sentence['text'],\n",
    "            'text_vector': encoder.encode(sentence[\"text\"]).tolist()\n",
    "        }\n",
    "        documents.append(temp_dict)\n",
    "    \n",
    "    return documents\n",
    "\n",
    "def encode_podcast(**kwargs):\n",
    "    episode_details = kwargs['episode_details']\n",
    "    sentence_encoder = kwargs['sentence_encoder']\n",
    "\n",
    "    if sentence_encoder == \"1. T5\":\n",
    "        documents = create_t5_embedding(kwargs['encoder'], episode_details['chunks'])\n",
    "    elif sentence_encoder == \"2. OpenAI\":\n",
    "        documents = create_oa_embedding(kwargs['embedding_client'], kwargs['embedding_model'], episode_details['chunks'])\n",
    "\n",
    "    return {'documents': documents}"
   ]
  },
  {
   "cell_type": "markdown",
   "id": "046f62f6-deb1-4134-a575-5d47a328e183",
   "metadata": {},
   "source": [
    "# indexing"
   ]
  },
  {
   "cell_type": "code",
   "execution_count": 34,
   "id": "4888d4da-18c9-4fba-896c-f086e2eb845d",
   "metadata": {},
   "outputs": [],
   "source": [
    "def create_chroma_index(client, index_name):\n",
    "    existing_collections = client.list_collections()\n",
    "\n",
    "    # Check if the collection exists\n",
    "    if index_name in [collection.name for collection in existing_collections]:\n",
    "        # Delete the collection if it exists\n",
    "        client.delete_collection(index_name)\n",
    "\n",
    "    # Create or get a collection with cosine distance\n",
    "    index = client.get_or_create_collection(\n",
    "        name=index_name,\n",
    "        metadata={\"hnsw:space\": \"cosine\"}\n",
    "    )\n",
    "\n",
    "    return index\n",
    "\n",
    "def create_index(**kwargs):\n",
    "    vector_db = kwargs['vector_db']\n",
    "\n",
    "    if vector_db == \"1. Minsearch\":\n",
    "        return create_minsearch_index(index_name=kwargs['index_name'])\n",
    "    elif vector_db == \"2. Elasticsearch\":\n",
    "        return create_es_index(client=kwargs['vector_db_client'], index_name=kwargs['index_name'])\n",
    "    elif vector_db == \"3. ChromaDB\":\n",
    "        return create_chroma_index(client=kwargs['vector_db_client'], index_name=kwargs['index_name'])\n",
    "\n",
    "def populate_chroma_collection(documents, collection):\n",
    "    ids = [str(i) for i in range(len(documents))]\n",
    "    embeddings = [doc['text_vector'] for doc in documents]\n",
    "    texts = [doc['text'] for doc in documents]\n",
    "    \n",
    "    collection.add(\n",
    "        ids=ids,\n",
    "        embeddings=embeddings,\n",
    "        metadatas=[{\"text\": text} for text in texts]\n",
    "    )\n",
    "\n",
    "def index_podcast(**kwargs):\n",
    "    episode_details = kwargs['episode_details']\n",
    "    vector_db = kwargs['vector_db']\n",
    "\n",
    "    if vector_db==\"1. Minsearch\":\n",
    "        populate_minsearch_index(episode_details['chunks'], kwargs['index'])\n",
    "    elif vector_db==\"2. Elasticsearch\":\n",
    "        populate_es_index(episode_details['documents'], kwargs['index_name'], kwargs['vector_db_client'])\n",
    "    elif vector_db==\"3. ChromaDB\":\n",
    "        populate_chroma_collection(episode_details['documents'], kwargs['index'])        \n"
   ]
  },
  {
   "cell_type": "markdown",
   "id": "2ff230b5-34cf-4da3-8f1b-bb17a0ac7b22",
   "metadata": {},
   "source": [
    "# rag"
   ]
  },
  {
   "cell_type": "code",
   "execution_count": 10,
   "id": "15f75eb9-4b02-4a39-973b-06b0ace3fdcb",
   "metadata": {},
   "outputs": [],
   "source": [
    "def search(query, **kwargs):\n",
    "    vector_db = kwargs['vector_db']\n",
    "\n",
    "    if vector_db == \"1. Minsearch\":\n",
    "        boost = {'text':3.0}\n",
    "        results = kwargs['index'].search(\n",
    "            query=query,\n",
    "            boost_dict=boost, \n",
    "            num_results=kwargs['num_results']\n",
    "        )\n",
    "    elif vector_db==\"2. Elasticsearch\":\n",
    "        # Encode the query\n",
    "        if kwargs['sentence_encoder'] == \"1. T5\":\n",
    "            query_vector = kwargs['encoder'].encode(query).tolist()\n",
    "        elif kwargs['sentence_encoder'] == \"2. OpenAI\":\n",
    "            query_vector = kwargs['embedding_client'].embeddings.create(model=kwargs['embedding_model'], input=query).data[0].embedding[:768]\n",
    "\n",
    "        # Construct the search query\n",
    "        search_query = {\n",
    "            \"size\": kwargs['num_results'],  # Limit the number of results\n",
    "            \"query\": {\n",
    "                \"script_score\": {\n",
    "                    \"query\": {\n",
    "                        \"match_all\": {}\n",
    "                    },\n",
    "                    \"script\": {\n",
    "                        \"source\": \"cosineSimilarity(params.query_vector, 'text_vector') + 1.0\",\n",
    "                        \"params\": {\n",
    "                            \"query_vector\": query_vector\n",
    "                        }\n",
    "                    }\n",
    "                }\n",
    "            }\n",
    "        }\n",
    "        # Execute the search query\n",
    "        results = kwargs['vector_db_client'].search(index=kwargs['index_name'], body=search_query)\n",
    "        results = results['hits']['hits']\n",
    "    elif vector_db==\"3. ChromaDB\":\n",
    "        # Encode the query\n",
    "        if kwargs['sentence_encoder'] == \"1. T5\":\n",
    "            query_vector = kwargs['encoder'].encode(query).tolist()\n",
    "        elif kwargs['sentence_encoder'] == \"2. OpenAI\":\n",
    "            query_vector = kwargs['embedding_client'].embeddings.create(model=kwargs['embedding_model'], input=query).data[0].embedding[:768]\n",
    "        \n",
    "        # Perform cosine similarity search in ChromaDB\n",
    "        results = kwargs['vector_db_client'].get_or_create_collection(kwargs['index_name']).query(\n",
    "            query_embeddings=[query_vector],\n",
    "            n_results=kwargs['num_results'],\n",
    "            include=[\"metadatas\", \"documents\", \"distances\"]\n",
    "        )\n",
    "        \n",
    "        # return results[\"metadatas\"]\n",
    "        results = results[\"metadatas\"][0]\n",
    "\n",
    "\n",
    "    return results\n",
    "\n",
    "# prompt\n",
    "def build_prompt(query, search_results):\n",
    "    prompt_template = \"\"\"\n",
    "    You're a podcast chat bot. Answer the QUESTION based on the CONTEXT from the RESULTS database.\n",
    "    Use only the facts from the CONTEXT when answering the QUESTION.\n",
    "\n",
    "    QUESTION: {question}\n",
    "    \n",
    "    CONTEXT: \n",
    "    {context}\n",
    "    \"\"\".strip()\n",
    "    \n",
    "    context = \"\"\n",
    "    \n",
    "    for search_result in search_results:\n",
    "        doc = search_result['_source']['text'] if '_source' in search_result.keys() else search_result['text']\n",
    "        context = context + f\"{doc}\\n\\n\"\n",
    "    \n",
    "    prompt = prompt_template.format(question=query, context=context).strip()\n",
    "\n",
    "    return prompt\n",
    "\n",
    "# generate\n",
    "def llm(prompt, **kwargs):\n",
    "    if kwargs['llm_option'] == \"1. GPT-4o\":\n",
    "        outputs = kwargs['llm_client'].chat.completions.create(\n",
    "            model='gpt-4o',\n",
    "            messages=[{'role': 'user', 'content': prompt}]\n",
    "        )\n",
    "        response = outputs.choices[0].message.content\n",
    "    elif kwargs['llm_option'] == \"2. FLAN-5\":\n",
    "        inputs = kwargs['llm_tokenizer'](prompt, return_tensors=\"pt\")\n",
    "        outputs = kwargs['llm_client'].generate(\n",
    "            inputs[\"input_ids\"], \n",
    "            max_length=100,\n",
    "            num_beams=5,\n",
    "            do_sample=True,\n",
    "            temperature=1.0,\n",
    "            top_k=50,\n",
    "            top_p=0.95,    \n",
    "            )\n",
    "        response = kwargs['llm_tokenizer'].decode(outputs[0], skip_special_tokens=True)\n",
    "        \n",
    "    return response\n",
    "\n",
    "# rag \n",
    "def rag(query, **kwargs):\n",
    "\n",
    "    search_results = search(\n",
    "        query, \n",
    "        vector_db=kwargs['vector_db'], \n",
    "        sentence_encoder=kwargs['sentence_encoder'], \n",
    "        encoder=kwargs['encoder'] if 'encoder' in kwargs.keys() else None, \n",
    "        index_name=kwargs['index_name'], \n",
    "        index=kwargs['index'], \n",
    "        vector_db_client=kwargs['vector_db_client'] if 'vector_db_client' in kwargs.keys() else None, \n",
    "        embedding_model=kwargs['embedding_model'] if 'embedding_model' in kwargs.keys() else None, \n",
    "        embedding_client=kwargs['embedding_client'] if 'embedding_client' in kwargs.keys() else None,\n",
    "        num_results=5\n",
    "        )\n",
    "\n",
    "    prompt = build_prompt(query, search_results)\n",
    "\n",
    "    answer = llm(\n",
    "        prompt, \n",
    "        llm_option=kwargs['llm_option'], \n",
    "        llm_client=kwargs['llm_client'], \n",
    "        llm_tokenizer=kwargs['llm_tokenizer'] if 'llm_tokenizer' in kwargs.keys() else None\n",
    "        )\n",
    "    \n",
    "    for word in answer.split():\n",
    "        yield word + \" \"\n",
    "        time.sleep(0.05)\n"
   ]
  },
  {
   "cell_type": "markdown",
   "id": "796469a0-0bca-42c9-98e1-ea3b6e48ba43",
   "metadata": {},
   "source": [
    "# Main"
   ]
  },
  {
   "cell_type": "code",
   "execution_count": 11,
   "id": "66e5a934-3cb2-4f26-ace0-0e547481edcd",
   "metadata": {},
   "outputs": [],
   "source": [
    "session_state = defaultdict(\n",
    "    episode_option = \"2. Provide the iTunes URL for a specific podcast episode\",\n",
    "    episode_url = 'https=//podcasts.apple.com/us/podcast/election-economics-how-can-presidents-really-impact/id1256091892?i=1000671647528',\n",
    "    sentence_encoder = \"1. T5\",\n",
    "    transcription_method = \"2. Local transcription\",\n",
    "    vector_db = \"3. ChromaDB\",\n",
    "    llm_option = \"2. FLAN-5\",\n",
    ")"
   ]
  },
  {
   "cell_type": "code",
   "execution_count": 12,
   "id": "8845ab18-b63b-4f67-a764-a6b821acb3ad",
   "metadata": {},
   "outputs": [
    {
     "name": "stderr",
     "output_type": "stream",
     "text": [
      "/home/minasonbol/Documents/study/deep-pod/.venv/lib/python3.10/site-packages/transformers/tokenization_utils_base.py:1601: FutureWarning: `clean_up_tokenization_spaces` was not set. It will be set to `True` by default. This behavior will be depracted in transformers v4.45, and will be then set to `False` by default. For more details check this issue: https://github.com/huggingface/transformers/issues/31884\n",
      "  warnings.warn(\n"
     ]
    }
   ],
   "source": [
    "choose_podcast_option(**session_state)"
   ]
  },
  {
   "cell_type": "code",
   "execution_count": 13,
   "id": "b5d1728e-3682-4831-acc3-94c1923fef56",
   "metadata": {},
   "outputs": [
    {
     "name": "stdout",
     "output_type": "stream",
     "text": [
      "Audio file downloaded successfully: ./audio/NerdWallet's_Smart_Money_Podcast/episode_0.mp3\n",
      "Podcast NerdWallet's Smart Money Podcast downloaded successfully.\n"
     ]
    }
   ],
   "source": [
    "episode_details = download_podcast(**session_state)\n",
    "if episode_details['status'] == 'Success':\n",
    "    print(episode_details['status_message'])\n",
    "    update_session(episode_details=episode_details, podcast_downloaded=True)"
   ]
  },
  {
   "cell_type": "code",
   "execution_count": 15,
   "id": "ed00813c-912a-4afe-b542-f36b37ce450d",
   "metadata": {},
   "outputs": [
    {
     "name": "stderr",
     "output_type": "stream",
     "text": [
      "  0%|                                                                                                                                                                  | 0/380.173 [00:00<?, ?s/s]\n",
      "  0%|                                                                                                                                                                  | 0/380.173 [00:00<?, ?s/s]\u001b[A\n",
      "\n",
      "  0%|                                                                                                                                                                  | 0/380.173 [00:00<?, ?s/s]\u001b[A\u001b[A\n",
      "\n",
      "\n",
      "  1%|█▉                                                                                                                                                     | 4.84/380.173 [00:03<05:08,  1.22s/s]\u001b[A\u001b[A\u001b[A\n",
      "\n",
      "\n",
      "  1%|█▍                                                                                                                                                     | 3.48/380.173 [00:03<06:36,  1.05s/s]\u001b[A\u001b[A\u001b[A\n",
      "\n",
      "  1%|▉                                                                                                                                                      | 2.24/380.173 [00:04<13:15,  2.11s/s]\u001b[A\u001b[A\n",
      "  9%|█████████████                                                                                                                                         | 33.18/380.173 [00:45<08:09,  1.41s/s]\u001b[A\n",
      "\n",
      "\n",
      "  7%|█████████▉                                                                                                                               | 27.619999999999997/380.173 [00:45<09:55,  1.69s/s]\u001b[A\u001b[A\u001b[A\n",
      "  7%|██████████▉                                                                                                                                           | 27.82/380.173 [00:46<09:47,  1.67s/s]\u001b[A\n",
      "\n",
      " 17%|█████████████████████████▏                                                                                                                            | 63.84/380.173 [01:31<07:42,  1.46s/s]\u001b[A\u001b[A\n",
      "\n",
      "\n",
      " 15%|█████████████████████▎                                                                                                                    | 58.81999999999999/380.173 [01:31<08:17,  1.55s/s]\u001b[A\u001b[A\u001b[A\n",
      " 15%|████████████████████▋                                                                                                                    | 57.440000000000005/380.173 [01:32<08:36,  1.60s/s]\u001b[A\n",
      "\n",
      " 24%|███████████████████████████████████▉                                                                                                                  | 91.16/380.173 [02:18<07:32,  1.56s/s]\u001b[A\u001b[A\n",
      "\n",
      "\n",
      " 23%|███████████████████████████████▌                                                                                                          | 86.99999999999999/380.173 [02:19<07:51,  1.61s/s]\u001b[A\u001b[A\u001b[A\n",
      "\n",
      " 22%|██████████████████████████████▍                                                                                                           | 84.01999999999998/380.173 [02:19<08:13,  1.67s/s]\u001b[A\u001b[A\n",
      " 31%|█████████████████████████████████████████████▊                                                                                                       | 116.74/380.173 [03:02<07:06,  1.62s/s]\u001b[A\n",
      "\n",
      "\n",
      " 31%|██████████████████████████████████████████▏                                                                                              | 116.97999999999999/380.173 [03:05<06:57,  1.59s/s]\u001b[A\u001b[A\u001b[A\n",
      "\n",
      " 27%|█████████████████████████████████████▎                                                                                                   | 103.65999999999997/380.173 [03:06<08:42,  1.89s/s]\u001b[A\u001b[A\n",
      " 38%|███████████████████████████████████████████████████▋                                                                                     | 143.29999999999998/380.173 [03:47<06:29,  1.64s/s]\u001b[A\n",
      "\n",
      "\n",
      " 39%|██████████████████████████████████████████████████████████▋                                                                                           | 148.6/380.173 [03:53<06:01,  1.56s/s]\u001b[A\u001b[A\u001b[A\n",
      " 37%|██████████████████████████████████████████████████▊                                                                                      | 141.14000000000001/380.173 [03:55<06:39,  1.67s/s]\u001b[A\n",
      "\n",
      " 45%|█████████████████████████████████████████████████████████████                                                                            | 169.31999999999996/380.173 [04:32<05:52,  1.67s/s]\u001b[A\u001b[A\n",
      "\n",
      "\n",
      " 46%|███████████████████████████████████████████████████████████████████▉                                                                                 | 173.28/380.173 [04:41<05:45,  1.67s/s]\u001b[A\u001b[A\u001b[A\n",
      " 45%|█████████████████████████████████████████████████████████████▎                                                                           | 170.24000000000004/380.173 [04:43<05:50,  1.67s/s]\u001b[A\n",
      "\n",
      " 51%|██████████████████████████████████████████████████████████████████████▎                                                                  | 195.01999999999998/380.173 [05:18<05:16,  1.71s/s]\u001b[A\u001b[A\n",
      "\n",
      "\n",
      " 52%|██████████████████████████████████████████████████████████████████████████████                                                                       | 199.24/380.173 [05:28<05:10,  1.72s/s]\u001b[A\u001b[A\u001b[A\n",
      "\n",
      " 50%|████████████████████████████████████████████████████████████████████▎                                                                    | 189.49999999999994/380.173 [05:29<05:29,  1.73s/s]\u001b[A\u001b[A\n",
      " 60%|█████████████████████████████████████████████████████████████████████████████████▌                                                       | 226.29999999999995/380.173 [06:03<04:09,  1.62s/s]\u001b[A\n",
      "\n",
      " 57%|██████████████████████████████████████████████████████████████████████████████▎                                                           | 215.6199999999999/380.173 [06:15<04:45,  1.73s/s]\u001b[A\u001b[A\n",
      "\n",
      "\n",
      " 60%|█████████████████████████████████████████████████████████████████████████████████▉                                                       | 227.32000000000002/380.173 [06:15<04:20,  1.70s/s]\u001b[A\u001b[A\u001b[A\n",
      " 66%|██████████████████████████████████████████████████████████████████████████████████████████▉                                              | 252.33999999999995/380.173 [06:57<03:43,  1.75s/s]\u001b[A\n",
      "\n",
      "\n",
      " 68%|█████████████████████████████████████████████████████████████████████████████████████████████▎                                            | 256.9200000000001/380.173 [07:25<03:56,  1.92s/s]\u001b[A\u001b[A\u001b[A\n",
      "\n",
      " 63%|██████████████████████████████████████████████████████████████████████████████████████▉                                                  | 241.27999999999994/380.173 [07:28<04:47,  2.07s/s]\u001b[A\u001b[A\n",
      " 74%|█████████████████████████████████████████████████████████████████████████████████████████████████████▌                                   | 281.73999999999995/380.173 [08:50<03:59,  2.43s/s]\u001b[A\n",
      "\n",
      "\n",
      " 75%|██████████████████████████████████████████████████████████████████████████████████████████████████████▊                                  | 285.28000000000014/380.173 [09:18<04:03,  2.56s/s]\u001b[A\u001b[A\u001b[A\n",
      "\n",
      " 70%|███████████████████████████████████████████████████████████████████████████████████████████████▋                                         | 265.49999999999994/380.173 [09:24<05:27,  2.85s/s]\u001b[A\u001b[A\n",
      " 81%|████████████████████████████████████████████████████████████████████████████████████████████████████████████████████████▌                            | 307.46/380.173 [10:48<03:41,  3.05s/s]\u001b[A\n",
      "\n",
      " 78%|██████████████████████████████████████████████████████████████████████████████████████████████████████████▉                              | 296.75999999999993/380.173 [11:20<04:23,  3.16s/s]\u001b[A\u001b[A\n",
      "\n",
      "\n",
      " 83%|█████████████████████████████████████████████████████████████████████████████████████████████████████████████████▎                       | 314.52000000000015/380.173 [11:22<03:22,  3.08s/s]\u001b[A\u001b[A\u001b[A\n",
      " 93%|███████████████████████████████████████████████████████████████████████████████████████████████████████████████████████████████▉         | 355.05999999999995/380.173 [12:43<00:53,  2.15s/s]\u001b[A\n"
     ]
    },
    {
     "name": "stdout",
     "output_type": "stream",
     "text": [
      "Audio transcription complete\n",
      "Data successfully stored in ./audio/NerdWallet's_Smart_Money_Podcast/stored_data.json\n"
     ]
    },
    {
     "name": "stderr",
     "output_type": "stream",
     "text": [
      "\n",
      "\n",
      " 89%|██████████████████████████████████████████████████████████████████████████████████████████████████████████████████████████▏               | 336.6799999999999/380.173 [12:53<01:39,  2.30s/s]\u001b[A\u001b[A\n"
     ]
    },
    {
     "name": "stdout",
     "output_type": "stream",
     "text": [
      "Audio transcription complete\n",
      "Data successfully stored in ./audio/NerdWallet's_Smart_Money_Podcast/stored_data.json\n"
     ]
    },
    {
     "name": "stderr",
     "output_type": "stream",
     "text": [
      "\n",
      " 93%|████████████████████████████████████████████████████████████████████████████████████████████████████████████████████████████████▏         | 353.0200000000001/380.173 [12:54<00:59,  2.19s/s]\u001b[A\n",
      "\n",
      "\n",
      "\n",
      " 96%|██████████████████████████████████████████████████████████████████████████████████████████████████████████████████████████████████▉      | 363.44000000000017/380.173 [12:54<00:35,  2.13s/s]\u001b[A\u001b[A\u001b[A"
     ]
    },
    {
     "name": "stdout",
     "output_type": "stream",
     "text": [
      "Audio transcription complete\n",
      "Data successfully stored in ./audio/NerdWallet's_Smart_Money_Podcast/stored_data.json\n",
      "Audio transcription complete\n",
      "Data successfully stored in ./audio/NerdWallet's_Smart_Money_Podcast/stored_data.json\n",
      "Time to run the command: 831.9737937450409 seconds\n"
     ]
    },
    {
     "name": "stderr",
     "output_type": "stream",
     "text": [
      "\n"
     ]
    }
   ],
   "source": [
    "# 4 splits -> 800s\n",
    "if session_state['podcast_downloaded'] and not session_state.get('interaction_started', False):\n",
    "    session_state['episode_details'].update(transcribe_podcast(**session_state))\n",
    "    update_session(podcast_transcribed=True)"
   ]
  },
  {
   "cell_type": "code",
   "execution_count": 14,
   "id": "c57d084d-ea30-47be-916f-0259c4d3d688",
   "metadata": {},
   "outputs": [
    {
     "name": "stderr",
     "output_type": "stream",
     "text": [
      "  0%|                                                                                                                                                                  | 0/760.346 [00:00<?, ?s/s]\n",
      "  0%|                                                                                                                                                                  | 0/760.346 [00:00<?, ?s/s]\u001b[A\n",
      "  4%|█████▍                                                                                                                                                | 27.82/760.346 [00:22<09:34,  1.27s/s]\u001b[A\n",
      "  4%|█████▉                                                                                                                                                 | 29.9/760.346 [00:22<08:52,  1.37s/s]\u001b[A\n",
      "  8%|██████████▎                                                                                                                              | 57.440000000000005/760.346 [00:45<09:20,  1.25s/s]\u001b[A\n",
      " 11%|███████████████                                                                                                                           | 82.70000000000002/760.346 [01:12<10:15,  1.10s/s]\u001b[A\n",
      " 15%|████████████████████▎                                                                                                                    | 113.02000000000002/760.346 [01:36<09:11,  1.17s/s]\u001b[A\n",
      " 19%|███████████████████████████▋                                                                                                                         | 141.36/760.346 [02:00<08:45,  1.18s/s]\u001b[A\n",
      " 22%|██████████████████████████████▋                                                                                                          | 170.38000000000002/760.346 [02:24<08:20,  1.18s/s]\u001b[A\n",
      " 26%|███████████████████████████████████                                                                                                      | 194.46000000000004/760.346 [02:49<08:32,  1.10s/s]\u001b[A\n",
      " 29%|███████████████████████████████████████▋                                                                                                 | 220.10000000000002/760.346 [03:14<08:18,  1.08s/s]\u001b[A\n",
      " 33%|█████████████████████████████████████████████                                                                                            | 250.43999999999997/760.346 [03:38<07:27,  1.14s/s]\u001b[A\n",
      " 37%|██████████████████████████████████████████████████████▋                                                                                              | 278.92/760.346 [04:03<07:01,  1.14s/s]\u001b[A\n",
      " 40%|████████████████████████████████████████████████████████████▎                                                                                        | 307.66/760.346 [04:27<06:32,  1.15s/s]\u001b[A\n",
      " 44%|████████████████████████████████████████████████████████████▊                                                                             | 335.2200000000001/760.346 [04:51<06:06,  1.16s/s]\u001b[A\n",
      " 48%|██████████████████████████████████████████████████████████████████▏                                                                       | 364.3400000000001/760.346 [05:15<05:37,  1.17s/s]\u001b[A\n",
      " 52%|██████████████████████████████████████████████████████████████████████▊                                                                  | 393.02000000000015/760.346 [05:41<05:18,  1.15s/s]\u001b[A\n",
      " 56%|████████████████████████████████████████████████████████████████████████████▏                                                            | 422.60000000000014/760.346 [06:07<04:54,  1.15s/s]\u001b[A\n",
      " 59%|█████████████████████████████████████████████████████████████████████████████████▉                                                        | 451.5600000000001/760.346 [06:30<04:21,  1.18s/s]\u001b[A\n",
      " 63%|██████████████████████████████████████████████████████████████████████████████████████▋                                                  | 481.16000000000014/760.346 [06:53<03:50,  1.21s/s]\u001b[A\n",
      " 67%|███████████████████████████████████████████████████████████████████████████████████████████▊                                             | 509.78000000000003/760.346 [07:18<03:31,  1.18s/s]\u001b[A\n",
      " 70%|████████████████████████████████████████████████████████████████████████████████████████████████████████▉                                            | 535.68/760.346 [07:42<03:14,  1.15s/s]\u001b[A\n",
      " 74%|██████████████████████████████████████████████████████████████████████████████████████████████████████████████▎                                      | 562.78/760.346 [08:07<02:54,  1.13s/s]\u001b[A\n",
      " 78%|████████████████████████████████████████████████████████████████████████████████████████████████████████████████████                                 | 592.48/760.346 [08:33<02:27,  1.14s/s]\u001b[A\n",
      " 82%|████████████████████████████████████████████████████████████████████████████████████████████████████████████████▋                         | 620.5400000000001/760.346 [08:57<02:02,  1.14s/s]\u001b[A\n",
      " 85%|█████████████████████████████████████████████████████████████████████████████████████████████████████████████████████▋                    | 648.7600000000001/760.346 [09:23<01:39,  1.12s/s]\u001b[A\n",
      " 89%|███████████████████████████████████████████████████████████████████████████████████████████████████████████████████████████               | 678.2000000000002/760.346 [09:48<01:12,  1.14s/s]\u001b[A\n",
      " 91%|█████████████████████████████████████████████████████████████████████████████████████████████████████████████████████████████▊            | 692.8799999999997/760.346 [10:07<00:59,  1.14s/s]\u001b[A\n"
     ]
    },
    {
     "name": "stdout",
     "output_type": "stream",
     "text": [
      "Audio transcription complete\n",
      "Data successfully stored in ./audio/NerdWallet's_Smart_Money_Podcast/stored_data.json\n"
     ]
    },
    {
     "name": "stderr",
     "output_type": "stream",
     "text": [
      " 93%|████████████████████████████████████████████████████████████████████████████████████████████████████████████████████████████████▌         | 708.2600000000002/760.346 [10:10<00:44,  1.16s/s]"
     ]
    },
    {
     "name": "stdout",
     "output_type": "stream",
     "text": [
      "Audio transcription complete\n",
      "Data successfully stored in ./audio/NerdWallet's_Smart_Money_Podcast/stored_data.json\n",
      "Time to run the command: 644.014075756073 seconds\n"
     ]
    },
    {
     "name": "stderr",
     "output_type": "stream",
     "text": [
      "\n"
     ]
    }
   ],
   "source": [
    "# 2 splits - 600s\n",
    "if session_state['podcast_downloaded'] and not session_state.get('interaction_started', False):\n",
    "    session_state['episode_details'].update(transcribe_podcast(**session_state))\n",
    "    update_session(podcast_transcribed=True)"
   ]
  },
  {
   "cell_type": "code",
   "execution_count": 17,
   "id": "ed4be97a-3e5f-4925-acdb-aa0328765c3e",
   "metadata": {},
   "outputs": [],
   "source": [
    "# encode\n",
    "if session_state['podcast_transcribed'] and not session_state.get('interaction_started', False):\n",
    "    if session_state['vector_db'] != \"1. Minsearch\":\n",
    "        try:\n",
    "            session_state['episode_details'].update(encode_podcast(**session_state))\n",
    "            update_session(podcast_embedded=True)\n",
    "        except:\n",
    "            print(\"Encoding failed.\")          \n",
    "            update_session(podcast_embedded=False)\n",
    "    else:\n",
    "        update_session(podcast_embedded=True)\n"
   ]
  },
  {
   "cell_type": "code",
   "execution_count": 35,
   "id": "7cb9dc58-081d-4587-9ad9-18c103e2428e",
   "metadata": {},
   "outputs": [
    {
     "name": "stdout",
     "output_type": "stream",
     "text": [
      "Index sample_index was created successfully.\n"
     ]
    }
   ],
   "source": [
    "session_state['index_name'] = \"podcast-transcriber\"\n",
    "vector_db = session_state['vector_db']\n",
    "if vector_db==\"3. ChromaDB\":\n",
    "    # chroma_client = chromadb.PersistentClient(path=\"./chroma_db\")\n",
    "    chroma_client = chromadb.EphemeralClient()\n",
    "    update_session(vector_db=vector_db, vector_db_client=chroma_client)\n",
    "    update_session(index=create_index(**session_state))\n",
    "    update_session(vector_db_selected=True, index_created=True)\n",
    "    print(f\"Index {session_state['vector_db_client'].list_collections()[0].name} was created successfully.\")"
   ]
  },
  {
   "cell_type": "code",
   "execution_count": 24,
   "id": "37328c61-7f62-48db-9dd1-af3372bf7320",
   "metadata": {},
   "outputs": [
    {
     "data": {
      "text/plain": [
       "Collection(id=1682247b-21d4-4008-bbf8-ddd49efa7ab0, name=sample_index)"
      ]
     },
     "execution_count": 24,
     "metadata": {},
     "output_type": "execute_result"
    }
   ],
   "source": [
    "client.get_or_create_collection(\n",
    "    name='sample_index',\n",
    "    metadata={\"hnsw:space\": \"cosine\"}\n",
    ")"
   ]
  },
  {
   "cell_type": "code",
   "execution_count": 36,
   "id": "dc384826-747c-4e15-a000-4558ee308f36",
   "metadata": {},
   "outputs": [],
   "source": [
    "# populate index\n",
    "if session_state['podcast_embedded'] and not session_state.get('interaction_started', False):\n",
    "    index_podcast(**session_state)\n",
    "    update_session(podcast_indexed=True)"
   ]
  },
  {
   "cell_type": "code",
   "execution_count": 38,
   "id": "ca5138b7-bac3-4c2e-bd9e-09d942f23a1d",
   "metadata": {},
   "outputs": [
    {
     "name": "stderr",
     "output_type": "stream",
     "text": [
      "You are using the default legacy behaviour of the <class 'transformers.models.t5.tokenization_t5.T5Tokenizer'>. This is expected, and simply means that the `legacy` (previous) behavior will be used so nothing changes for you. If you want to use the new behaviour, set `legacy=False`. This should only be set if you understand what it means, and thoroughly read the reason why this was added as explained in https://github.com/huggingface/transformers/pull/24565\n",
      "/home/minasonbol/Documents/study/deep-pod/.venv/lib/python3.10/site-packages/transformers/tokenization_utils_base.py:1601: FutureWarning: `clean_up_tokenization_spaces` was not set. It will be set to `True` by default. This behavior will be depracted in transformers v4.45, and will be then set to `False` by default. For more details check this issue: https://github.com/huggingface/transformers/issues/31884\n",
      "  warnings.warn(\n"
     ]
    }
   ],
   "source": [
    "# llm\n",
    "llm_option = \"2. FLAN-5\"\n",
    "llm_client = T5ForConditionalGeneration.from_pretrained(\"google/flan-t5-large\")\n",
    "llm_tokenizer = T5Tokenizer.from_pretrained(\"google/flan-t5-large\")\n",
    "llm_option_selected=True\n",
    "update_session(llm_option=llm_option, llm_client=llm_client, llm_tokenizer=llm_tokenizer, llm_option_selected=llm_option_selected)"
   ]
  },
  {
   "cell_type": "code",
   "execution_count": 41,
   "id": "a04654bd-c474-4ea9-ace5-9119030a4d8f",
   "metadata": {},
   "outputs": [
    {
     "name": "stdout",
     "output_type": "stream",
     "text": [
      "the  short  version  is  that  although  the  president  plays  a  role  in  staffing  these  positions  and  these  positions  impact  the  economy,  it  doesn't  really  equate  to  presidential  power  over  the  economy \n"
     ]
    }
   ],
   "source": [
    "# interact\n",
    "query = \"Does the president really have power over the economy?\"\n",
    "response = rag(\n",
    "    query, \n",
    "    **session_state\n",
    "    )\n",
    "print(\" \".join(list(response)))"
   ]
  },
  {
   "cell_type": "code",
   "execution_count": null,
   "id": "73b8bd67-1531-44d7-ac78-d6a0f1a28072",
   "metadata": {},
   "outputs": [],
   "source": []
  },
  {
   "cell_type": "code",
   "execution_count": 67,
   "id": "13bce1c9-71ba-45fa-abcf-7b7bd78d30bd",
   "metadata": {},
   "outputs": [
    {
     "name": "stderr",
     "output_type": "stream",
     "text": [
      " 94%|█████████████████████████████████████████████████████████████████████████████████████████████████████████████████████████████████▎        | 775.9200000000006/827.873 [05:22<00:21,  2.41s/s]"
     ]
    },
    {
     "name": "stdout",
     "output_type": "stream",
     "text": [
      "Audio transcription complete\n",
      "./audio/NerdWallet's_Smart_Money_Podcast\n",
      " Today's episode is supported by Money Girl. Let's be honest. Nothing kills your productivity faster than worrying about debt, wondering if you are managing your money right, or getting that cold sweat when someone mentions retirement planning. Yikes. But don't worry, there is a fix. If you're always looking for ideas to help you stop stressing about your finances, then it's time to check out a podcast called Money Girl. Money Girl host Laura Adams has been helping listeners tackle their finances for over 15 years. In that time, she's seen it all. Recessions, pandemics, and everything in between. So you can bet there's no money questions she hasn't heard or solved. Whether you're trying to budget, save, or just figure out how to stop impulse buying things at 3 a.m., Laura's got you covered. Each episode is under 20 minutes, perfect for when you need a quick dose of financial wisdom between meetings or while waiting for your coffee. And while we answer your money questions right here, Laura does it too, but with her own unique spin. Got something tricky on your mind? You can email her directly, and she might just feature your question on her show. New episodes come out every Wednesday and Friday, so grab your headphones and start getting your financial life in order. Listen to Money Girl wherever you get your podcasts. Hello, and welcome to the NerdWallet Smart Money Podcast, where we answer your money questions in 15 minutes or less. I'm your host, Sean Piles. And joining me is my new official co-host, Liz Weston, Smart Money Superfans will remember her from past episodes, and I'm so excited that she's joining me full-time on the show. Liz is a certified financial planner, and she's been helping consumers tackle their thorny money questions for decades. Hey, everybody. All right, let's dive in. This episode's question is from John. He says, my husband and I have been happily married for a year, but have reached a disagreement on how to handle our finances. I think that we should have a joint bank account only to pay the bills, with each of us putting in a percentage of our income. while retaining separate accounts for everything else. He thinks that we should have just a joint account. I'm the main breadwinner, so it's primarily my money that would be going into the account, and I'm just not comfortable having only a joint account. While I have no problem spotting my husband for things, I don't like the idea of his being able to spend my money without my saying so. I'm also concerned that if we have a shared account, we won't be able to surprise each other as we will both be able to see what purchases we have made. Finally, I'm worried that we will both make plans for the same. same money, and that will cause transactions to bounce. What is your advice on how to handle this? Oh, wow, Sean. There's a lot in here. Yeah, but I really love questions like this because it gets to the personal and personal finance. And it's about balancing disparate incomes, managing household finances, but it's also about communication and how you retain privacy in a relationship. In this episode of NerdWallet Smart Money Podcast, we're going to give you our nerdy advice for how to talk about money with your partner, offer different ways of co-managing your money and then suggest a few healthy money habits for couples. Then at the end, we'll leave you with the takeaway tips so you can put all your newly acquired knowledge into action. And before we dive in, a quick plug to send us your money questions. you can text or call the nerd hotline at 901-730-6373. That's 901-730 nerd. Or you can email us at podcast at nerdwollet.com. All right, let's get to answering John's question. Okay. I first want to touch on money communication. in relationships. When you've hit a certain point in your relationship, hopefully before you're thinking of shacking up together, I think it's really important for you both to lay out your finances so you know what each of you is working with. That means talking about your income, your expenses, your debt, your credit, any past money troubles you may have had. And yeah, it might be awkward in the beginning, but you'll get over that, I promise. The more you do it, the easier it becomes. But the important thing is that you just have to have a shared understanding of both of your finances. So you know what you're getting into, what your strengths are, what your weaknesses are, and that can help you establish shared goals as well. And it's really important for the person who's good with money or making more money to actually listen to the other person. It can be super easy to think, well, I know what I'm doing and they should just do what I want. But that can cause all kinds of problems. Just ask me how I know about that. Yeah, I'm going to guess it's the 20-some years you've been married to your husband. We've learned a lot. in that period. And it really took me a while to get over that hump of thinking, well, I'm the money expert. I know how to do this. It's super important to have both people's perspectives involved and you're talking about all this stuff. You don't start off just understanding where everybody's coming from. It's your history with money. It's your experiences along the way. It's what's worked in past relationships and what hasn't. All those things can inform where you are today. And John, I think that part of your conversation with your husband should be asking, why your husband wants only a joint account and what shared goals that will help you achieve. Since you're the main breadwinner, maybe he feels like he needs your additional income to cover daily expenses, or maybe he just likes the idea of having absolute openness and honesty with your spending. I want to mention something that's really important, which is John is talking about my money. And I know some people are going to respond to that by saying, no, no, no, it should be all our money. actually, that's not realistic. There's no one right way for couples to manage finances. For some couples, having everything together is great. Other couples want to keep everything separate. Most of us are somewhere in between. So keep in mind that what works for your friends or what worked in past relationship may not work for you now. Yeah, it seems like there's a spectrum here, as you mentioned, from totally separate to totally joint. I'm wondering, Liz, how have you and your husband handled this over your two-sum decades together. It's mostly joint at this point. We had the issues that John was talking about where we would spend the same money twice or we would not be able to surprise each other with gifts. So what we worked out was that our paychecks go into a joint account and that's what's used to pay bills and save for the future. But there's also small amounts that are transferred out into separate accounts for each of us so that we have our no-quake- questions asked money. That way I can buy him gifts. He can buy me gifts. We can have our little indulgences. And it really helps to avoid a lot of fights and to have some fun with our money. Yeah. Plus, you guys are constantly giving each other gifts, which sounds amazing. So love that. My husband's a great gift, I have to say. Definitely an art form there. But yeah, my partner and I, we tend to be more on the mostly separate end of the continuum here, which I think really works for us. We're not married, but we do have a house together, and there are a lot of expenses that come with that. There's property tax. There's water, electric, all sorts of things that pop up. And what that ends up meaning is that while I have some bills in my name and he has some bills in his name, we just end up Venmoing each other a lot. And it's maybe not the most graceful thing when I think, okay, I'm sending him 50 bucks for this. He's sending me 60 bucks for that. It seems a little silly, but it just works out for us. And that's where we are right now. And that's fine. Yeah, absolutely. There are a lot of different ways to handle the mostly separate setup. You can each contribute a certain percentage of income or a certain dollar amount. But again, it's totally fine to keep things completely separate if that's what works best for you. If you do have joint accounts or mostly joint accounts, there usually needs to be some sort of what we call an ask limit. In other words, if you're going to spend some money over a certain amount, you need to get the other person's okay. If money's super tight, that might be a low amount. amount, you know, $25, $50, $100, whatever it is, as you get more affluent, it could be higher, but those ask limits can be really helpful to avoid a lot of fights. And when you're communicating and talking about these different options, I think that it might be a good idea for you, John, to try out a few different ways of approaching having shared and separate finances. So maybe for a couple months, try being entirely separate, and then a couple months, maybe being a little more joint. And just dabbling with each part of of this spectrum and seeing what you do and don't like. But I really like the idea of doing it for at least a couple months because then that way you're living in this and it's not just a trial period. You can really experience the pros and cons of each option. And then when you come back together to communicate, you can express that to each other and then find some sort of middle ground that works best for both of you. Exactly. And you mentioned communication again. So I will give my pitch about why it's so important to over communicate. You really do want to make sure you. you understand where the other person's coming from. And when you're having these discussions, you can ask each other questions like, what was your earliest memory around money? That can be super revealing. How did your parents handle their money, which can give you some insight into how they've seen couples work this out in the past. Another question that could be helpful, what was your biggest money trauma? A lot of us have these money traumas somewhere in our background. And that can have a big effect on how we look at money today. Just asking these questions and getting the answers, that could give you a lot of insight into why the person is the way they are around money and what they might need to be more comfortable handling money together. Asking each other these really thoughtful questions and answering them earnestly can be really beneficial and honestly really cathartic. Because again, working through these issues is about more than just managing your money as a couple. This is also about having a shared understanding of each other's strengths and weaknesses, And a lot of that is informed by our past. So then once you've dug through your childhood traumas and talked about that time your sister stole your allowance, then you can finally start to be a little more forward-looking and set some shared goals together. Financial planners will tell you the first thing you need to do as a couple is figure out your joint goals. And that takes a lot of discussion. Is it saving for retirement, paying down debt, buying a home? Those are all big goals. There might be smaller goals along the way that you want to get to. But coordinating your findings, is important, even if you're keeping things completely separate. And the bedrock of any good goal is going to be good habits. So when you're talking with your partner, make sure that's your first one that you establish. Have regular communication and an ongoing dialogue about what your goals are. And also talk about the daily actions, aka habits that you're going to enact that will get you there. If you're saving it for a vacation, how are you trimming your spending on a daily basis to save it more money for that. Or if you're paying down debt, are you making those monthly payments that you need to get debt-free in a reasonable amount of time? And no matter where you fall on the spectrum of joint or separate finances, the one area you should overlap is your shared understanding of each other's money and your goals and how you're both working on a daily basis to build that life that you want together. It's also okay to have one person be the chief financial officer and handle most of the money issues. That's what we do in my household. But the other person, person needs to be in the loop. You need to have regular money dates where you're talking about money. And you need to make sure the other person knows how the bills get paid. So if something happens to you, they can step in. So again, it's okay to have a CFO. Just make sure the other person is in the loop. Yeah. And it's important for that CFO to keep compromise in mind throughout the entire conversation because it is pretty easy for someone who knows the most to just say, okay, here's how we're doing things. Get used to it. But again, that's that is. to me, seem like a very open and honest and a trusting relationship. Yeah. Great. Well, I think that about covers it for this episode. Let's get to our takeaway tips. Liz, do you want to kick us off? Yes. Again, the most important thing, communicate. If you haven't done so already, you want to lay out your finances with your partner. If you're frightened by that prospect, ask yourself why. Probably the best approach is just to rip off that bandaid and get going. You will feel a lot better, I promise. And when you do communicate, align on those shared goals. be at front about your histories, and set goals that you can accomplish together. And when you're working out your finances, try out different methods of having shared in separate finances. Experiment for a couple months, see what you do and don't like. And at the end of the period, go back to that money date and communicate again. It's really a cycle of communicating, trying things out, communicating, trying things out until you find what works best for both of you. Exactly. Lastly, focus on your daily money habits. Work on the actions that will help you and your partner meet your shared goals so you can have the life that you want together. All right. That is all we have for this episode. Do you have a money question of your own? Turn to the nerds and call us or text us your questions at 901-730-6373. That's 901-730 nerd. You can also email us at podcast at nerdwallet.com. Also, visit nerdwad.com slash podcast for more info on this episode. And remember to subscribe, rate, and review us, wherever you're getting this podcast. And here's our brief disclaimer, thoughtfully crafted by Nerd Wallet's legal team. Your questions are answered by knowledgeable and talented finance writers, but we are not financial or investment advisors. This nerdy info is provided for general education and entertainment purposes and may not apply to your specific circumstances. All right. And with that said, until next time, turn to the nerd.\n",
      "Data successfully stored in ./audio/NerdWallet's_Smart_Money_Podcast/stored_data.json\n"
     ]
    },
    {
     "name": "stderr",
     "output_type": "stream",
     "text": [
      "\n"
     ]
    },
    {
     "ename": "TypeError",
     "evalue": "'NoneType' object is not iterable",
     "output_type": "error",
     "traceback": [
      "\u001b[0;31m---------------------------------------------------------------------------\u001b[0m",
      "\u001b[0;31mTypeError\u001b[0m                                 Traceback (most recent call last)",
      "Cell \u001b[0;32mIn[67], line 2\u001b[0m\n\u001b[1;32m      1\u001b[0m \u001b[38;5;28;01mif\u001b[39;00m session_state[\u001b[38;5;124m'\u001b[39m\u001b[38;5;124mpodcast_downloaded\u001b[39m\u001b[38;5;124m'\u001b[39m] \u001b[38;5;129;01mand\u001b[39;00m \u001b[38;5;129;01mnot\u001b[39;00m session_state\u001b[38;5;241m.\u001b[39mget(\u001b[38;5;124m'\u001b[39m\u001b[38;5;124minteraction_started\u001b[39m\u001b[38;5;124m'\u001b[39m, \u001b[38;5;28;01mFalse\u001b[39;00m):\n\u001b[0;32m----> 2\u001b[0m     \u001b[43msession_state\u001b[49m\u001b[43m[\u001b[49m\u001b[38;5;124;43m'\u001b[39;49m\u001b[38;5;124;43mepisode_details\u001b[39;49m\u001b[38;5;124;43m'\u001b[39;49m\u001b[43m]\u001b[49m\u001b[38;5;241;43m.\u001b[39;49m\u001b[43mupdate\u001b[49m\u001b[43m(\u001b[49m\u001b[43mtranscribe_podcast\u001b[49m\u001b[43m(\u001b[49m\u001b[38;5;241;43m*\u001b[39;49m\u001b[38;5;241;43m*\u001b[39;49m\u001b[43msession_state\u001b[49m\u001b[43m)\u001b[49m\u001b[43m)\u001b[49m\n\u001b[1;32m      3\u001b[0m     update_session(podcast_transcribed\u001b[38;5;241m=\u001b[39m\u001b[38;5;28;01mTrue\u001b[39;00m)\n",
      "\u001b[0;31mTypeError\u001b[0m: 'NoneType' object is not iterable"
     ]
    }
   ],
   "source": [
    "if session_state['podcast_downloaded'] and not session_state.get('interaction_started', False):\n",
    "    session_state['episode_details'].update(transcribe_podcast(**session_state))\n",
    "    update_session(podcast_transcribed=True)"
   ]
  },
  {
   "cell_type": "code",
   "execution_count": 96,
   "id": "c42788e7-d77f-40d6-8de4-dde89b0d11ea",
   "metadata": {},
   "outputs": [
    {
     "name": "stderr",
     "output_type": "stream",
     "text": [
      "  0%|                                                                                                                                                                  | 0/413.937 [00:00<?, ?s/s]\n",
      "  1%|█▋                                                                                                                                                     | 4.66/413.937 [00:02<03:39,  1.87s/s]\u001b[A\n",
      "  7%|██████████▏                                                                                                                              | 30.740000000000006/413.937 [00:19<04:05,  1.56s/s]\u001b[A\n",
      " 15%|███████████████████▉                                                                                                                     | 60.320000000000014/413.937 [00:37<03:36,  1.63s/s]\u001b[A\n",
      " 21%|████████████████████████████▉                                                                                                             | 86.78000000000002/413.937 [00:56<03:35,  1.52s/s]\u001b[A\n",
      " 28%|█████████████████████████████████████▉                                                                                                   | 114.66000000000003/413.937 [01:15<03:19,  1.50s/s]\u001b[A\n",
      " 34%|██████████████████████████████████████████████████▉                                                                                                  | 141.66/413.937 [01:35<03:09,  1.44s/s]\u001b[A\n",
      " 41%|█████████████████████████████████████████████████████████████▎                                                                                       | 170.34/413.937 [01:56<02:52,  1.41s/s]\u001b[A\n",
      " 48%|████████████████████████████████████████████████████████████████████████                                                                              | 198.7/413.937 [02:17<02:34,  1.39s/s]\u001b[A\n",
      " 55%|██████████████████████████████████████████████████████████████████████████████████▌                                                                  | 229.22/413.937 [02:38<02:11,  1.40s/s]\u001b[A\n",
      " 62%|████████████████████████████████████████████████████████████████████████████████████████████▌                                                        | 257.32/413.937 [03:01<01:56,  1.34s/s]\u001b[A\n",
      " 70%|███████████████████████████████████████████████████████████████████████████████████████████████▍                                         | 288.47999999999996/413.937 [03:23<01:32,  1.36s/s]\u001b[A\n",
      " 77%|██████████████████████████████████████████████████████████████████████████████████████████████████████████████████▌                                  | 318.24/413.937 [03:46<01:11,  1.35s/s]\u001b[A\n",
      " 86%|███████████████████████████████████████████████████████████████████████████████████████████████████████████████████████████████▋                     | 354.62/413.937 [04:08<00:41,  1.44s/s]\u001b[A\n",
      " 91%|████████████████████████████████████████████████████████████████████████████████████████████████████████████████████████████▎            | 375.44000000000005/413.937 [04:33<00:30,  1.24s/s]\u001b[A\n",
      " 93%|████████████████████████████████████████████████████████████████████████████████████████████████████████████████████████████████▊         | 386.5200000000002/413.936 [04:38<00:19,  1.39s/s]\u001b[A\n"
     ]
    },
    {
     "name": "stdout",
     "output_type": "stream",
     "text": [
      "Audio transcription complete\n",
      " Today's episode is supported by Money Girl. Let's be honest. Nothing kills your productivity faster than worrying about debt, wondering if you are managing your money right, or getting that cold sweat when someone mentions retirement planning. Yikes. But don't worry, there is a fix. If you're always looking for ideas to help you stop stressing about your finances, then it's time to check out a podcast called Money Girl. Money Girl host Laura Adams has been helping listeners tackle their finances for over 15 years. In that time, she's seen it all, recessions, pandemics, and everything in between. So you can bet there's no money questions she hasn't heard or solved. Whether you're trying to budget, save, or just figure out how to stop impulsifying things at 3 a.m., Laura's got you covered. Each episode is under 20 minutes, perfect for when you need a quick dose of financial wisdom between meetings or while waiting for your coffee. And while we answer your money questions right here, Laura does it too, but with her own unique spin. Got something tricky on your mind? You can email her directly, and she might just feature your question on her show. New episodes come out every Wednesday and Friday, so grab your headphones and start getting your financial life in order. Listen to Money Girl wherever you get your podcasts. Hello, and welcome to the NerdWallet Smart Money Podcast, where we answer your money questions in 15 minutes or less. I'm your host, Sean Piles. And joining me is my new official co-host, Liz Weston, Smart Money Superfan. will remember her from past episodes, and I'm so excited that she's joining me full-time on the show. Liz is a certified financial planner, and she's been helping consumers tackle their thorny money questions for decades. Hey, everybody. All right, let's dive in. This episode's question is from John. He says, my husband and I have been happily married for a year, but have reached a disagreement on how to handle our finances. I think that we should have a joint bank account only to pay the bills, with each of us putting in a percentage of our incomes, while retaining separate accounts for everything else. He thinks that we should have just a joint account. I'm the main breadwinner, so it's primarily my money that would be going into the account, and I'm just not comfortable having only a joint account. While I have no problem spotting my husband for things, I don't like the idea of his being able to spend my money without my saying so. I'm also concerned that if we have a shared account, we won't be able to surprise each other, as we will both be able to see what purchases we have made. Finally, I'm worried that we will both make plans for the same money, and that will be able to surprise. cause transactions to bounce. What is your advice on how to handle this? Oh, wow, Sean. There's a lot in here. Yeah, but I really love questions like this because it gets to the personal and personal finance. And it's about balancing disparate incomes, managing household finances, but it's also about communication and how you retain privacy in a relationship. In this episode of NerdWallet Smart Money Podcasts, we're going to give you our nerdy advice for how to talk about money with your partner, offer different ways of co-managing your money, and then suggest a few healthy money habits for couples. Then at the end, we'll leave you with the takeaway tips so you can put all your newly acquired knowledge into action. And before we dive in, a quick plug to send us your money questions. You can text or call the Nerd Hotline at 901-730-6373. That's 901-730 Nerd. Or you can email us at podcast at nerdwollet.com. All right, let's get to answering John's question. Okay. I first want to touch on Money Communication. in relationships. When you've hit a certain point in your relationship, hopefully before you're thinking of shacking up together, I think it's really important for you both to lay out your finances so you know what each of you is working with. That means talking about your income, your expenses, your debt, your credit, any past money troubles you may have had. And yeah, it might be awkward in the beginning, but you'll get over that, I promise. The more you do it, the easier it becomes. But the important thing is that you just have to have a shared understanding of both of your your finances. So you know what you're getting into, what your strengths are, what your weaknesses are. And that can help you establish shared goals as well. And it's really important for the person who's good with money or making more money to actually listen to the other person. It can be super easy to think, well, I know what I'm doing and they should just do what I want. But that can cause all kinds of problems. Just ask me how I know about that. Yeah, I'm going to guess it's the 20-some years you've been married to your husband. We've learned a lot in that period. And it really took me a while to get over that hump of thinking, well, I'm the money expert. I know how to do this. It's super important to have both people's perspectives involved and you're talking about all this stuff. You don't start off just understanding where everybody's coming from. It's your history with money. It's your experiences along the way. It's what's worked in past relationships and what hasn't. All those things can inform where you are today. And John, I think that part of your conversation with your husband should be asking why your husband wants only a joint account and what shared goals that will help you achieve. Since you're the main breadwinner, maybe he feels like he needs your additional income to cover daily expenses, or maybe he just likes the idea of having absolute openness and honesty with your spending. I want to mention something that's really important, which is John is talking about my money. And I know some people are going to respond to that by saying, no, no, no, it should be all our money. Actually, that's not realistic. There's no one right way for couples to manage finances. For some couples, having everything together is great. Other couples want to keep everything separate. Most of us are somewhere in between. So keep in mind that what works for your friends or what worked in past relationship may not work for you now. Yeah. It seems like there's a spectrum here, as you mentioned, from totally separate to totally joint. I'm wondering, Liz, how have you and your husband handled this over your two-some decades together? It's mostly joint at this point. We had the issues that John was talking about where we would spend the same money twice or we would not be able to surprise each other with gifts. So what we worked out was that our paychecks go into a joint account and that's what's used to pay bills and save for the future. But there's also small amounts that are transferred out into separate accounts for each of us so that we have our no questions asked money. That way I can buy. him gifts. He can buy me gifts. We can have our little indulgences. And it really helps to avoid a lot of fights and to have some fun with our money. Yeah. Plus, you guys are constantly giving each other gifts, which sounds amazing. So I love that. My husband's a great gift giver, I have to say. Definitely an art form there. But yeah, my partner and I, we tend to be more on the mostly separate end of the continuum here, which I think really works for us. You know, we're not married.\n",
      "Data successfully stored in ./audio/NerdWallet's_Smart_Money_Podcast/stored_data.json\n"
     ]
    },
    {
     "name": "stderr",
     "output_type": "stream",
     "text": [
      " 96%|████████████████████████████████████████████████████████████████████████████████████████████████████████████████████████████████████████████████▌     | 399.1/413.937 [04:49<00:10,  1.38s/s]"
     ]
    },
    {
     "name": "stdout",
     "output_type": "stream",
     "text": [
      "Audio transcription complete\n",
      " but we do have a house together, and there are a lot of expenses that come with that. There's property tax. There's water, electric, all sorts of things that pop up. And what that ends up meaning is that while I have some bills in my name and he has some bills in his name, we just end up Venmoing each other a lot. And it's maybe not the most graceful thing when I think, okay, I'm sending him 50 bucks for this. He's sending me 60 bucks for that. It seems a little silly, but it just works out for us, and that's where we are right now, and that's fine. Yeah, absolutely. There are a lot of different ways to handle the mostly separate setup. You can each contribute a certain percentage of income or a certain dollar amount. But again, it's totally fine to keep things completely separate if that's what works best for you. If you do have joint accounts or mostly joint accounts, there usually needs to be some sort of what we call an ask limit. In other words, if you're going to spend some money over a certain amount, you need to get the other person's okay. If money's super tight, that might be a low amount, you know, $25 bucks, $50, $100, whatever it is, as you get more affluent, it could be higher, but those ask limits can be really helpful to avoid a lot of fights. And when you're communicating and talking about these different options, I think that it might be a good idea for you, John, to try out a few different ways of approaching having shared and separate finances. So maybe for a couple months, try being entirely separate, and then a couple months maybe being a little more joint. and just dabbling with each part of this spectrum and seeing what you do and don't like. But I really like the idea of doing it for at least a couple months because then that way you're living in this and it's not just a trial period. You can really experience the pros and cons of each option. And then when you come back together to communicate, you can express that to each other and then find some sort of middle ground that works best for both of you. Exactly. And you mentioned communication again. So I will give my pitch about why it's so important to over communicate. You really do want to make sure you understand where the other person's coming from. And when you're having these discussions, you can ask each other questions like, what was your earliest memory around money? That can be super revealing. How did your parents handle their money, which can give you some insight into how they've seen couples work this out in the past? Another question that could be helpful, what was your biggest money trauma? A lot of us have these money traumas somewhere in our background. and that can have a big effect on how we look at money today. Just asking these questions and getting the answers, that could give you a lot of insight into why the person is the way they are around money and what they might need to be more comfortable handling money together. Asking each other these really thoughtful questions and answering them earnestly can be really beneficial and honestly really cathartic. Because again, working through these issues is about more than just managing your money as a couple. This is also about having a shared understanding of your money. other's strengths and weaknesses, and a lot of that is informed by our past. So then once you've dug through your childhood traumas and talked about that time your sister stole your allowance, then you can finally start to be a little more forward-looking and set some shared goals together. Financial planners will tell you the first thing you need to do as a couple is figure out your joint goals, and that takes a lot of discussion. Is it saving for retirement, paying down debt, buying a home? Those are all big goals. There might be smaller goals along the way that you want to get to. But coordinating your finance is important, even if you're keeping things completely separate. And the bedrock of any good goal is going to be good habits. So when you're talking with your partner, make sure that's your first one that you establish. Have regular communication and an ongoing dialogue about what your goals are, and also talk about the daily actions, aka habits that you're going to enact that will get you there. If you're saving it for a vacation, how? are you trimming your spending on a daily basis to save up more money for that? Or if you're paying down debt, are you making those monthly payments that you need to get debt-free in a reasonable amount of time? And no matter where you fall on the spectrum of joint or separate finances, the one area you should overlap is your shared understanding of each other's money and your goals and how you're both working on a daily basis to build that life that you want together. It's also okay to have one person be the chief financial officer and handle most of the money issues. That's what we do in my household. But the other person needs to be in the loop. You need to have regular money dates where you're talking about money and you need to make sure the other person knows how the bills get paid. So if something happens to you, they can step in. So again, it's okay to have a CFO. Just make sure the other person is in the loop. Yeah. And it's important for that CFO to keep compromise in mind throughout the entire conversation because it is pretty easy for someone who knows the most to just say, okay, here's we're doing things, get used to it. But again, that doesn't, to me, seem like a very open and honest and a trusting relationship. Yeah. Great. Well, I think that about covers it for this episode. Let's get to our takeaway tips. Liz, do you want to kick us off? Yes. Again, the most important thing, communicate. If you haven't done so already, you want to lay out your finances with your partner. If you're frightened by that prospect, ask yourself why. Probably the best approach is just to rip off that band-aid and get going. You will feel a lot. better, I promise. And when you do communicate, align on those shared goals. Be up front about your histories and set goals that you can accomplish together. And when you're working out your finances, try out different methods of having shared in separate finances. Experiment for a couple months, see what you do and don't like. And at the end of the period, go back to that money date and communicate again. It's really a cycle of communicating, trying things out, communicating, trying things out until you find what works best for both. exactly lastly focus on your daily money habits work on the actions that will help you and your partner meet your shared goals so you can have the life that you want together all right that is all we have for this episode do you have a money question of your own turn to the nerds and call us or text us your questions at 901 730 6373 that's 901 730 nerd you can also email us at podcast at nerd wallet.com also visit nerdwlett.com more info on this episode. And remember to subscribe, rate, and review us wherever you're getting this podcast. And here's our brief disclaimer, thoughtfully crafted by NerdWallet's legal team. Your questions are answered by knowledgeable and talented finance writers, but we are not financial or investment advisors. This nerdy info is provided for general education and entertainment purposes and may not apply to your specific circumstances. All right. And with that said, until next time, turn to the nerd. Thank you.\n",
      "Data successfully stored in ./audio/NerdWallet's_Smart_Money_Podcast/stored_data.json\n",
      "Time to run the command: 317.29814410209656 seconds\n"
     ]
    },
    {
     "name": "stderr",
     "output_type": "stream",
     "text": [
      "\n"
     ]
    },
    {
     "ename": "TypeError",
     "evalue": "'NoneType' object is not iterable",
     "output_type": "error",
     "traceback": [
      "\u001b[0;31m---------------------------------------------------------------------------\u001b[0m",
      "\u001b[0;31mTypeError\u001b[0m                                 Traceback (most recent call last)",
      "Cell \u001b[0;32mIn[96], line 2\u001b[0m\n\u001b[1;32m      1\u001b[0m \u001b[38;5;28;01mif\u001b[39;00m session_state[\u001b[38;5;124m'\u001b[39m\u001b[38;5;124mpodcast_downloaded\u001b[39m\u001b[38;5;124m'\u001b[39m] \u001b[38;5;129;01mand\u001b[39;00m \u001b[38;5;129;01mnot\u001b[39;00m session_state\u001b[38;5;241m.\u001b[39mget(\u001b[38;5;124m'\u001b[39m\u001b[38;5;124minteraction_started\u001b[39m\u001b[38;5;124m'\u001b[39m, \u001b[38;5;28;01mFalse\u001b[39;00m):\n\u001b[0;32m----> 2\u001b[0m     \u001b[43msession_state\u001b[49m\u001b[43m[\u001b[49m\u001b[38;5;124;43m'\u001b[39;49m\u001b[38;5;124;43mepisode_details\u001b[39;49m\u001b[38;5;124;43m'\u001b[39;49m\u001b[43m]\u001b[49m\u001b[38;5;241;43m.\u001b[39;49m\u001b[43mupdate\u001b[49m\u001b[43m(\u001b[49m\u001b[43mtranscribe_podcast\u001b[49m\u001b[43m(\u001b[49m\u001b[38;5;241;43m*\u001b[39;49m\u001b[38;5;241;43m*\u001b[39;49m\u001b[43msession_state\u001b[49m\u001b[43m)\u001b[49m\u001b[43m)\u001b[49m\n\u001b[1;32m      3\u001b[0m     update_session(podcast_transcribed\u001b[38;5;241m=\u001b[39m\u001b[38;5;28;01mTrue\u001b[39;00m)\n",
      "\u001b[0;31mTypeError\u001b[0m: 'NoneType' object is not iterable"
     ]
    }
   ],
   "source": [
    "if session_state['podcast_downloaded'] and not session_state.get('interaction_started', False):\n",
    "    session_state['episode_details'].update(transcribe_podcast(**session_state))\n",
    "    update_session(podcast_transcribed=True)"
   ]
  },
  {
   "cell_type": "code",
   "execution_count": 103,
   "id": "8b7f77bd-9597-4b06-ae0e-9e5f3f2c1269",
   "metadata": {},
   "outputs": [],
   "source": [
    "# session_state['text']"
   ]
  },
  {
   "cell_type": "code",
   "execution_count": 78,
   "id": "7c0df98e-85cb-4dc8-b92a-6c5304ce60aa",
   "metadata": {},
   "outputs": [
    {
     "data": {
      "text/plain": [
       "dict_keys(['episode_option', 'episode_url', 'sentence_encoder', 'transcription_method', 'vector_db', 'llm_option', 'sentence_encoder_selected', 'encoder', 'episode_details', 'podcast_downloaded', 'transcription_result'])"
      ]
     },
     "execution_count": 78,
     "metadata": {},
     "output_type": "execute_result"
    }
   ],
   "source": [
    "session_state.keys()"
   ]
  },
  {
   "cell_type": "code",
   "execution_count": 70,
   "id": "25906314-b454-49ec-aa89-d35704eeeeca",
   "metadata": {},
   "outputs": [],
   "source": [
    "with open(\"./audio/NerdWallet's_Smart_Money_Podcast/stored_data.json\") as f:\n",
    "    transcript = json.load(f)"
   ]
  },
  {
   "cell_type": "code",
   "execution_count": 72,
   "id": "8678ac07-da18-41d6-a18b-63e5a80c7d21",
   "metadata": {},
   "outputs": [
    {
     "data": {
      "text/plain": [
       "\" Today's episode is supported by Money Girl. Let's be honest. Nothing kills your productivity faster\""
      ]
     },
     "execution_count": 72,
     "metadata": {},
     "output_type": "execute_result"
    }
   ],
   "source": [
    "transcript['transcription'][:100]"
   ]
  },
  {
   "cell_type": "code",
   "execution_count": 88,
   "id": "d4717bfa-3ed7-4f11-a32d-96bf0d15e34b",
   "metadata": {},
   "outputs": [],
   "source": [
    "chunks = []\n",
    "for sentence in sentences:\n",
    "    tmp_dict = {}\n",
    "    tmp_dict['text'] = sentence\n",
    "    chunks.append(tmp_dict)"
   ]
  },
  {
   "cell_type": "code",
   "execution_count": 89,
   "id": "55fbfc89-3ce4-4fd8-a4c6-2573b4537e8b",
   "metadata": {},
   "outputs": [
    {
     "data": {
      "text/plain": [
       "[{'text': \" Today's episode is supported by Money Girl.\"},\n",
       " {'text': \"Let's be honest.\"},\n",
       " {'text': 'Nothing kills your productivity faster'}]"
      ]
     },
     "execution_count": 89,
     "metadata": {},
     "output_type": "execute_result"
    }
   ],
   "source": [
    "chunks"
   ]
  },
  {
   "cell_type": "code",
   "execution_count": 85,
   "id": "f06fcd91-60b3-415f-bcaa-b01601e76c77",
   "metadata": {},
   "outputs": [
    {
     "data": {
      "text/plain": [
       "dict_keys([\"NerdWallet's_Smart_Money_Podcast_0\"])"
      ]
     },
     "execution_count": 85,
     "metadata": {},
     "output_type": "execute_result"
    }
   ],
   "source": [
    "session_state['transcription_result'].keys()"
   ]
  }
 ],
 "metadata": {
  "kernelspec": {
   "display_name": "Python 3 (ipykernel)",
   "language": "python",
   "name": "python3"
  },
  "language_info": {
   "codemirror_mode": {
    "name": "ipython",
    "version": 3
   },
   "file_extension": ".py",
   "mimetype": "text/x-python",
   "name": "python",
   "nbconvert_exporter": "python",
   "pygments_lexer": "ipython3",
   "version": "3.10.12"
  }
 },
 "nbformat": 4,
 "nbformat_minor": 5
}
